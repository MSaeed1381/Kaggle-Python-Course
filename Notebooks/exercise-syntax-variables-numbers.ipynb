{
 "cells": [
  {
   "cell_type": "markdown",
   "id": "e1ea116e",
   "metadata": {
    "papermill": {
     "duration": 0.008014,
     "end_time": "2023-02-14T14:48:49.577627",
     "exception": false,
     "start_time": "2023-02-14T14:48:49.569613",
     "status": "completed"
    },
    "tags": []
   },
   "source": [
    "**This notebook is an exercise in the [Python](https://www.kaggle.com/learn/python) course.  You can reference the tutorial at [this link](https://www.kaggle.com/colinmorris/hello-python).**\n",
    "\n",
    "---\n"
   ]
  },
  {
   "cell_type": "markdown",
   "id": "72a152f0",
   "metadata": {
    "papermill": {
     "duration": 0.00636,
     "end_time": "2023-02-14T14:48:49.590799",
     "exception": false,
     "start_time": "2023-02-14T14:48:49.584439",
     "status": "completed"
    },
    "tags": []
   },
   "source": [
    "Welcome to your first set of Python coding problems.  If this is your first time using Kaggle Notebooks, welcome! \n",
    "\n",
    "Notebooks are composed of blocks (called \"cells\") of text and code. Each of these is editable, though you'll mainly be editing the code cells to answer some questions.\n",
    "\n",
    "To get started, try running the code cell below (by pressing the ► button, or clicking on the cell and pressing ctrl+enter on your keyboard)."
   ]
  },
  {
   "cell_type": "code",
   "execution_count": 1,
   "id": "f16e0ee4",
   "metadata": {
    "execution": {
     "iopub.execute_input": "2023-02-14T14:48:49.606093Z",
     "iopub.status.busy": "2023-02-14T14:48:49.605598Z",
     "iopub.status.idle": "2023-02-14T14:48:49.618769Z",
     "shell.execute_reply": "2023-02-14T14:48:49.617617Z"
    },
    "papermill": {
     "duration": 0.02389,
     "end_time": "2023-02-14T14:48:49.621197",
     "exception": false,
     "start_time": "2023-02-14T14:48:49.597307",
     "status": "completed"
    },
    "tags": []
   },
   "outputs": [
    {
     "name": "stdout",
     "output_type": "stream",
     "text": [
      "You've successfully run some Python code\n",
      "Congratulations!\n"
     ]
    }
   ],
   "source": [
    "print(\"You've successfully run some Python code\")\n",
    "print(\"Congratulations!\")"
   ]
  },
  {
   "cell_type": "markdown",
   "id": "0841bc61",
   "metadata": {
    "papermill": {
     "duration": 0.006443,
     "end_time": "2023-02-14T14:48:49.634556",
     "exception": false,
     "start_time": "2023-02-14T14:48:49.628113",
     "status": "completed"
    },
    "tags": []
   },
   "source": [
    "Try adding another line of code in the cell above and re-running it. \n",
    "\n",
    "Now let's get a little fancier:  Add a new code cell by clicking on an existing code cell, hitting the escape key, and then hitting the `a` or `b` key.  The `a` key will add a cell above the current cell, and `b` adds a cell below.\n",
    "\n",
    "Great! Now you know how to use Notebooks.\n",
    "\n",
    "Each hands-on exercise starts by setting up our feedback and code checking mechanism. Run the code cell below to do that. Then you'll be ready to move on to question 0."
   ]
  },
  {
   "cell_type": "code",
   "execution_count": 2,
   "id": "23d89c63",
   "metadata": {
    "_kg_hide-input": true,
    "_kg_hide-output": true,
    "execution": {
     "iopub.execute_input": "2023-02-14T14:48:49.650309Z",
     "iopub.status.busy": "2023-02-14T14:48:49.649501Z",
     "iopub.status.idle": "2023-02-14T14:48:49.696107Z",
     "shell.execute_reply": "2023-02-14T14:48:49.694915Z"
    },
    "papermill": {
     "duration": 0.057564,
     "end_time": "2023-02-14T14:48:49.698809",
     "exception": false,
     "start_time": "2023-02-14T14:48:49.641245",
     "status": "completed"
    },
    "tags": []
   },
   "outputs": [
    {
     "name": "stdout",
     "output_type": "stream",
     "text": [
      "Setup complete! You're ready to start question 0.\n"
     ]
    }
   ],
   "source": [
    "from learntools.core import binder; binder.bind(globals())\n",
    "from learntools.python.ex1 import *\n",
    "print(\"Setup complete! You're ready to start question 0.\")"
   ]
  },
  {
   "cell_type": "markdown",
   "id": "17c155fe",
   "metadata": {
    "papermill": {
     "duration": 0.00652,
     "end_time": "2023-02-14T14:48:49.712190",
     "exception": false,
     "start_time": "2023-02-14T14:48:49.705670",
     "status": "completed"
    },
    "tags": []
   },
   "source": [
    "# 0.\n",
    "\n",
    "*This is a silly question intended as an introduction to the format we use for hands-on exercises throughout all Kaggle courses.*\n",
    "\n",
    "**What is your favorite color? **\n",
    "\n",
    "To complete this question, create a variable called `color` in the cell below with an appropriate value. The function call `q0.check()` (which we've already provided in the cell below) will check your answer."
   ]
  },
  {
   "cell_type": "code",
   "execution_count": 3,
   "id": "7d50ee88",
   "metadata": {
    "execution": {
     "iopub.execute_input": "2023-02-14T14:48:49.727672Z",
     "iopub.status.busy": "2023-02-14T14:48:49.727236Z",
     "iopub.status.idle": "2023-02-14T14:48:49.738983Z",
     "shell.execute_reply": "2023-02-14T14:48:49.737713Z"
    },
    "papermill": {
     "duration": 0.022262,
     "end_time": "2023-02-14T14:48:49.741283",
     "exception": false,
     "start_time": "2023-02-14T14:48:49.719021",
     "status": "completed"
    },
    "tags": []
   },
   "outputs": [
    {
     "data": {
      "application/javascript": [
       "parent.postMessage({\"jupyterEvent\": \"custom.exercise_interaction\", \"data\": {\"outcomeType\": 1, \"valueTowardsCompletion\": 0.25, \"interactionType\": 1, \"questionType\": 2, \"questionId\": \"0_ExerciseFormatTutorial\", \"learnToolsVersion\": \"0.3.4\", \"failureMessage\": \"\", \"exceptionClass\": \"\", \"trace\": \"\"}}, \"*\")"
      ],
      "text/plain": [
       "<IPython.core.display.Javascript object>"
      ]
     },
     "metadata": {},
     "output_type": "display_data"
    },
    {
     "data": {
      "text/markdown": [
       "<span style=\"color:#33cc33\">Correct:</span> What?! You got it right without needing a hint or anything? Drats. Well hey, you should still continue to the next step to get some practice asking for a hint and checking solutions. (Even though you obviously don't need any help here.)"
      ],
      "text/plain": [
       "Correct: What?! You got it right without needing a hint or anything? Drats. Well hey, you should still continue to the next step to get some practice asking for a hint and checking solutions. (Even though you obviously don't need any help here.)"
      ]
     },
     "metadata": {},
     "output_type": "display_data"
    }
   ],
   "source": [
    "# create a variable called color with an appropriate value on the line below\n",
    "# (Remember, strings in Python must be enclosed in 'single' or \"double\" quotes)\n",
    "____\n",
    "color = \"Blue\"\n",
    "# Check your answer\n",
    "q0.check()"
   ]
  },
  {
   "cell_type": "markdown",
   "id": "8b33732d",
   "metadata": {
    "papermill": {
     "duration": 0.006895,
     "end_time": "2023-02-14T14:48:49.755449",
     "exception": false,
     "start_time": "2023-02-14T14:48:49.748554",
     "status": "completed"
    },
    "tags": []
   },
   "source": [
    "Didn't get the right answer? How do you not even know your own favorite color?!\n",
    "\n",
    "Delete the `#` in the line below to make one of the lines run. You can choose between getting a hint or the full answer by choosing which line to remove the `#` from. \n",
    "\n",
    "Removing the `#` is called uncommenting, because it changes that line from a \"comment\" which Python doesn't run to code, which Python does run."
   ]
  },
  {
   "cell_type": "code",
   "execution_count": 4,
   "id": "51c56f5e",
   "metadata": {
    "execution": {
     "iopub.execute_input": "2023-02-14T14:48:49.771217Z",
     "iopub.status.busy": "2023-02-14T14:48:49.770818Z",
     "iopub.status.idle": "2023-02-14T14:48:49.784635Z",
     "shell.execute_reply": "2023-02-14T14:48:49.783335Z"
    },
    "papermill": {
     "duration": 0.024838,
     "end_time": "2023-02-14T14:48:49.787356",
     "exception": false,
     "start_time": "2023-02-14T14:48:49.762518",
     "status": "completed"
    },
    "tags": []
   },
   "outputs": [
    {
     "data": {
      "application/javascript": [
       "parent.postMessage({\"jupyterEvent\": \"custom.exercise_interaction\", \"data\": {\"interactionType\": 2, \"questionType\": 2, \"questionId\": \"0_ExerciseFormatTutorial\", \"learnToolsVersion\": \"0.3.4\", \"valueTowardsCompletion\": 0.0, \"failureMessage\": \"\", \"exceptionClass\": \"\", \"trace\": \"\", \"outcomeType\": 4}}, \"*\")"
      ],
      "text/plain": [
       "<IPython.core.display.Javascript object>"
      ]
     },
     "metadata": {},
     "output_type": "display_data"
    },
    {
     "data": {
      "text/markdown": [
       "<span style=\"color:#3366cc\">Hint:</span> Your favorite color rhymes with *glue*."
      ],
      "text/plain": [
       "Hint: Your favorite color rhymes with *glue*."
      ]
     },
     "metadata": {},
     "output_type": "display_data"
    },
    {
     "data": {
      "application/javascript": [
       "parent.postMessage({\"jupyterEvent\": \"custom.exercise_interaction\", \"data\": {\"interactionType\": 3, \"questionType\": 2, \"questionId\": \"0_ExerciseFormatTutorial\", \"learnToolsVersion\": \"0.3.4\", \"valueTowardsCompletion\": 0.0, \"failureMessage\": \"\", \"exceptionClass\": \"\", \"trace\": \"\", \"outcomeType\": 4}}, \"*\")"
      ],
      "text/plain": [
       "<IPython.core.display.Javascript object>"
      ]
     },
     "metadata": {},
     "output_type": "display_data"
    },
    {
     "data": {
      "text/markdown": [
       "<span style=\"color:#33cc99\">Solution:</span> \n",
       "```python\n",
       "color = \"blue\"\n",
       "```"
      ],
      "text/plain": [
       "Solution: \n",
       "```python\n",
       "color = \"blue\"\n",
       "```"
      ]
     },
     "metadata": {},
     "output_type": "display_data"
    }
   ],
   "source": [
    "q0.hint()\n",
    "q0.solution()"
   ]
  },
  {
   "cell_type": "markdown",
   "id": "b2713789",
   "metadata": {
    "papermill": {
     "duration": 0.008277,
     "end_time": "2023-02-14T14:48:49.803242",
     "exception": false,
     "start_time": "2023-02-14T14:48:49.794965",
     "status": "completed"
    },
    "tags": []
   },
   "source": [
    "The upcoming questions work the same way. The only thing that will change are the question numbers. For the next question, you'll call `q1.check()`, `q1.hint()`, `q1.solution()`, for question 2, you'll call `q2.check()`, and so on."
   ]
  },
  {
   "cell_type": "markdown",
   "id": "9eb14b8a",
   "metadata": {
    "papermill": {
     "duration": 0.007253,
     "end_time": "2023-02-14T14:48:49.818395",
     "exception": false,
     "start_time": "2023-02-14T14:48:49.811142",
     "status": "completed"
    },
    "tags": []
   },
   "source": [
    "<hr/>\n",
    "\n",
    "# 1.\n",
    "\n",
    "Complete the code below. In case it's helpful, here is the table of available arithmetic operations:\n",
    "\n",
    "\n",
    "\n",
    "| Operator     | Name           | Description                                            |\n",
    "|--------------|----------------|--------------------------------------------------------|\n",
    "| ``a + b``    | Addition       | Sum of ``a`` and ``b``                                 |\n",
    "| ``a - b``    | Subtraction    | Difference of ``a`` and ``b``                          |\n",
    "| ``a * b``    | Multiplication | Product of ``a`` and ``b``                             |\n",
    "| ``a / b``    | True division  | Quotient of ``a`` and ``b``                            |\n",
    "| ``a // b``   | Floor division | Quotient of ``a`` and ``b``, removing fractional parts |\n",
    "| ``a % b``    | Modulus        | Integer remainder after division of ``a`` by ``b``     |\n",
    "| ``a ** b``   | Exponentiation | ``a`` raised to the power of ``b``                     |\n",
    "| ``-a``       | Negation       | The negative of ``a``                                  |\n",
    "\n",
    "<span style=\"display:none\"></span>\n"
   ]
  },
  {
   "cell_type": "code",
   "execution_count": 5,
   "id": "bb8cc575",
   "metadata": {
    "execution": {
     "iopub.execute_input": "2023-02-14T14:48:49.835507Z",
     "iopub.status.busy": "2023-02-14T14:48:49.835095Z",
     "iopub.status.idle": "2023-02-14T14:48:49.844217Z",
     "shell.execute_reply": "2023-02-14T14:48:49.843359Z"
    },
    "papermill": {
     "duration": 0.020492,
     "end_time": "2023-02-14T14:48:49.846471",
     "exception": false,
     "start_time": "2023-02-14T14:48:49.825979",
     "status": "completed"
    },
    "tags": []
   },
   "outputs": [
    {
     "data": {
      "application/javascript": [
       "parent.postMessage({\"jupyterEvent\": \"custom.exercise_interaction\", \"data\": {\"outcomeType\": 1, \"valueTowardsCompletion\": 0.25, \"interactionType\": 1, \"questionType\": 1, \"questionId\": \"1_CircleArea\", \"learnToolsVersion\": \"0.3.4\", \"failureMessage\": \"\", \"exceptionClass\": \"\", \"trace\": \"\"}}, \"*\")"
      ],
      "text/plain": [
       "<IPython.core.display.Javascript object>"
      ]
     },
     "metadata": {},
     "output_type": "display_data"
    },
    {
     "data": {
      "text/markdown": [
       "<span style=\"color:#33cc33\">Correct</span>"
      ],
      "text/plain": [
       "Correct"
      ]
     },
     "metadata": {},
     "output_type": "display_data"
    }
   ],
   "source": [
    "pi = 3.14159 # approximate\n",
    "diameter = 3\n",
    "\n",
    "# Create a variable called 'radius' equal to half the diameter\n",
    "radius = diameter / 2 \n",
    "____\n",
    "\n",
    "# Create a variable called 'area', using the formula for the area of a circle: pi times the radius squared\n",
    "area = pi * (radius**2)\n",
    "____\n",
    "\n",
    "# Check your answer\n",
    "q1.check()"
   ]
  },
  {
   "cell_type": "code",
   "execution_count": 6,
   "id": "0f285c57",
   "metadata": {
    "execution": {
     "iopub.execute_input": "2023-02-14T14:48:49.864544Z",
     "iopub.status.busy": "2023-02-14T14:48:49.864145Z",
     "iopub.status.idle": "2023-02-14T14:48:49.868550Z",
     "shell.execute_reply": "2023-02-14T14:48:49.867388Z"
    },
    "papermill": {
     "duration": 0.016266,
     "end_time": "2023-02-14T14:48:49.870798",
     "exception": false,
     "start_time": "2023-02-14T14:48:49.854532",
     "status": "completed"
    },
    "tags": []
   },
   "outputs": [],
   "source": [
    "# Uncomment and run the lines below if you need help.\n",
    "#q1.hint()\n",
    "#q1.solution()"
   ]
  },
  {
   "cell_type": "markdown",
   "id": "6a0287af",
   "metadata": {
    "papermill": {
     "duration": 0.007364,
     "end_time": "2023-02-14T14:48:49.886222",
     "exception": false,
     "start_time": "2023-02-14T14:48:49.878858",
     "status": "completed"
    },
    "tags": []
   },
   "source": [
    "<hr/>\n",
    "\n",
    "# 2.\n",
    "\n",
    "Add code to the following cell to swap variables `a` and `b` (so that `a` refers to the object previously referred to by `b` and vice versa)."
   ]
  },
  {
   "cell_type": "code",
   "execution_count": 7,
   "id": "d352dde5",
   "metadata": {
    "execution": {
     "iopub.execute_input": "2023-02-14T14:48:49.903311Z",
     "iopub.status.busy": "2023-02-14T14:48:49.902893Z",
     "iopub.status.idle": "2023-02-14T14:48:49.913827Z",
     "shell.execute_reply": "2023-02-14T14:48:49.912689Z"
    },
    "papermill": {
     "duration": 0.022403,
     "end_time": "2023-02-14T14:48:49.916258",
     "exception": false,
     "start_time": "2023-02-14T14:48:49.893855",
     "status": "completed"
    },
    "tags": []
   },
   "outputs": [
    {
     "data": {
      "application/javascript": [
       "parent.postMessage({\"jupyterEvent\": \"custom.exercise_interaction\", \"data\": {\"outcomeType\": 1, \"valueTowardsCompletion\": 0.25, \"interactionType\": 1, \"questionType\": 2, \"questionId\": \"2_VariableSwap\", \"learnToolsVersion\": \"0.3.4\", \"failureMessage\": \"\", \"exceptionClass\": \"\", \"trace\": \"\"}}, \"*\")"
      ],
      "text/plain": [
       "<IPython.core.display.Javascript object>"
      ]
     },
     "metadata": {},
     "output_type": "display_data"
    },
    {
     "data": {
      "text/markdown": [
       "<span style=\"color:#33cc33\">Correct:</span> \n",
       "\n",
       "The most straightforward solution is to use a third variable to temporarily store one of the old values. e.g.:\n",
       "\n",
       "    tmp = a\n",
       "    a = b\n",
       "    b = tmp\n",
       "\n",
       "If you've read lots of Python code, you might have seen the following trick to swap two variables in one line:\n",
       "\n",
       "    a, b = b, a\n",
       "\n",
       "We'll demystify this bit of Python magic later when we talk about *tuples*."
      ],
      "text/plain": [
       "Correct: \n",
       "\n",
       "The most straightforward solution is to use a third variable to temporarily store one of the old values. e.g.:\n",
       "\n",
       "    tmp = a\n",
       "    a = b\n",
       "    b = tmp\n",
       "\n",
       "If you've read lots of Python code, you might have seen the following trick to swap two variables in one line:\n",
       "\n",
       "    a, b = b, a\n",
       "\n",
       "We'll demystify this bit of Python magic later when we talk about *tuples*."
      ]
     },
     "metadata": {},
     "output_type": "display_data"
    }
   ],
   "source": [
    "########### Setup code - don't touch this part ######################\n",
    "# If you're curious, these are examples of lists. We'll talk about \n",
    "# them in depth a few lessons from now. For now, just know that they're\n",
    "# yet another type of Python object, like int or float.\n",
    "a = [1, 2, 3]\n",
    "b = [3, 2, 1]\n",
    "q2.store_original_ids()\n",
    "######################################################################\n",
    "\n",
    "# Your code goes here. Swap the values to which a and b refer.\n",
    "# If you get stuck, you can always uncomment one or both of the lines in\n",
    "# the next cell for a hint, or to peek at the solution.\n",
    "a,b = b,a\n",
    "######################################################################\n",
    "\n",
    "# Check your answer\n",
    "q2.check()"
   ]
  },
  {
   "cell_type": "code",
   "execution_count": 8,
   "id": "eef0f1c9",
   "metadata": {
    "execution": {
     "iopub.execute_input": "2023-02-14T14:48:49.934233Z",
     "iopub.status.busy": "2023-02-14T14:48:49.933811Z",
     "iopub.status.idle": "2023-02-14T14:48:49.938861Z",
     "shell.execute_reply": "2023-02-14T14:48:49.937739Z"
    },
    "papermill": {
     "duration": 0.016811,
     "end_time": "2023-02-14T14:48:49.941251",
     "exception": false,
     "start_time": "2023-02-14T14:48:49.924440",
     "status": "completed"
    },
    "tags": []
   },
   "outputs": [],
   "source": [
    "#q2.hint()"
   ]
  },
  {
   "cell_type": "code",
   "execution_count": 9,
   "id": "a87cd466",
   "metadata": {
    "execution": {
     "iopub.execute_input": "2023-02-14T14:48:49.959415Z",
     "iopub.status.busy": "2023-02-14T14:48:49.958990Z",
     "iopub.status.idle": "2023-02-14T14:48:49.963329Z",
     "shell.execute_reply": "2023-02-14T14:48:49.962176Z"
    },
    "papermill": {
     "duration": 0.016276,
     "end_time": "2023-02-14T14:48:49.965751",
     "exception": false,
     "start_time": "2023-02-14T14:48:49.949475",
     "status": "completed"
    },
    "tags": []
   },
   "outputs": [],
   "source": [
    "#q2.solution()"
   ]
  },
  {
   "cell_type": "markdown",
   "id": "833730bf",
   "metadata": {
    "papermill": {
     "duration": 0.008117,
     "end_time": "2023-02-14T14:48:49.982509",
     "exception": false,
     "start_time": "2023-02-14T14:48:49.974392",
     "status": "completed"
    },
    "tags": []
   },
   "source": [
    "<hr/>\n",
    "\n",
    "# 3a.\n",
    "\n",
    "Add parentheses to the following expression so that it evaluates to 1."
   ]
  },
  {
   "cell_type": "code",
   "execution_count": 10,
   "id": "5a242f15",
   "metadata": {
    "execution": {
     "iopub.execute_input": "2023-02-14T14:48:50.000228Z",
     "iopub.status.busy": "2023-02-14T14:48:49.999803Z",
     "iopub.status.idle": "2023-02-14T14:48:50.006757Z",
     "shell.execute_reply": "2023-02-14T14:48:50.005506Z"
    },
    "papermill": {
     "duration": 0.018673,
     "end_time": "2023-02-14T14:48:50.009204",
     "exception": false,
     "start_time": "2023-02-14T14:48:49.990531",
     "status": "completed"
    },
    "tags": []
   },
   "outputs": [
    {
     "data": {
      "text/plain": [
       "1"
      ]
     },
     "execution_count": 10,
     "metadata": {},
     "output_type": "execute_result"
    }
   ],
   "source": [
    "(5 - 3) // 2"
   ]
  },
  {
   "cell_type": "code",
   "execution_count": 11,
   "id": "0dfb78c2",
   "metadata": {
    "execution": {
     "iopub.execute_input": "2023-02-14T14:48:50.027497Z",
     "iopub.status.busy": "2023-02-14T14:48:50.027103Z",
     "iopub.status.idle": "2023-02-14T14:48:50.032061Z",
     "shell.execute_reply": "2023-02-14T14:48:50.030922Z"
    },
    "papermill": {
     "duration": 0.016812,
     "end_time": "2023-02-14T14:48:50.034349",
     "exception": false,
     "start_time": "2023-02-14T14:48:50.017537",
     "status": "completed"
    },
    "tags": []
   },
   "outputs": [],
   "source": [
    "#q3.a.hint()"
   ]
  },
  {
   "cell_type": "code",
   "execution_count": 12,
   "id": "696f3fc2",
   "metadata": {
    "execution": {
     "iopub.execute_input": "2023-02-14T14:48:50.052306Z",
     "iopub.status.busy": "2023-02-14T14:48:50.051875Z",
     "iopub.status.idle": "2023-02-14T14:48:50.060217Z",
     "shell.execute_reply": "2023-02-14T14:48:50.059064Z"
    },
    "papermill": {
     "duration": 0.02009,
     "end_time": "2023-02-14T14:48:50.062514",
     "exception": false,
     "start_time": "2023-02-14T14:48:50.042424",
     "status": "completed"
    },
    "tags": []
   },
   "outputs": [
    {
     "data": {
      "application/javascript": [
       "parent.postMessage({\"jupyterEvent\": \"custom.exercise_interaction\", \"data\": {\"interactionType\": 3, \"questionType\": 4, \"questionId\": \"3.1_ArithmeticParensEasy\", \"learnToolsVersion\": \"0.3.4\", \"valueTowardsCompletion\": 0.0, \"failureMessage\": \"\", \"exceptionClass\": \"\", \"trace\": \"\", \"outcomeType\": 4}}, \"*\")"
      ],
      "text/plain": [
       "<IPython.core.display.Javascript object>"
      ]
     },
     "metadata": {},
     "output_type": "display_data"
    },
    {
     "data": {
      "text/markdown": [
       "<span style=\"color:#33cc99\">Solution:</span> \n",
       "```python\n",
       "(5 - 3) // 2\n",
       "```"
      ],
      "text/plain": [
       "Solution: \n",
       "```python\n",
       "(5 - 3) // 2\n",
       "```"
      ]
     },
     "metadata": {},
     "output_type": "display_data"
    }
   ],
   "source": [
    "# Check your answer (Run this code cell to receive credit!)\n",
    "q3.a.solution()"
   ]
  },
  {
   "cell_type": "markdown",
   "id": "bbb453f9",
   "metadata": {
    "papermill": {
     "duration": 0.007953,
     "end_time": "2023-02-14T14:48:50.078941",
     "exception": false,
     "start_time": "2023-02-14T14:48:50.070988",
     "status": "completed"
    },
    "tags": []
   },
   "source": [
    "# 3b.  <span title=\"A bit spicy\" style=\"color: darkgreen \">🌶️</span>\n",
    "\n",
    "<small>Questions, like this one, marked a spicy pepper are a bit harder.</small>\n",
    "\n",
    "Add parentheses to the following expression so that it evaluates to 0."
   ]
  },
  {
   "cell_type": "code",
   "execution_count": 13,
   "id": "f019c461",
   "metadata": {
    "execution": {
     "iopub.execute_input": "2023-02-14T14:48:50.099573Z",
     "iopub.status.busy": "2023-02-14T14:48:50.099139Z",
     "iopub.status.idle": "2023-02-14T14:48:50.106131Z",
     "shell.execute_reply": "2023-02-14T14:48:50.105124Z"
    },
    "papermill": {
     "duration": 0.020704,
     "end_time": "2023-02-14T14:48:50.108298",
     "exception": false,
     "start_time": "2023-02-14T14:48:50.087594",
     "status": "completed"
    },
    "tags": []
   },
   "outputs": [
    {
     "data": {
      "text/plain": [
       "0"
      ]
     },
     "execution_count": 13,
     "metadata": {},
     "output_type": "execute_result"
    }
   ],
   "source": [
    "8 - (3 * 2) - (1 + 1)"
   ]
  },
  {
   "cell_type": "code",
   "execution_count": 14,
   "id": "ad3cd0b5",
   "metadata": {
    "execution": {
     "iopub.execute_input": "2023-02-14T14:48:50.127246Z",
     "iopub.status.busy": "2023-02-14T14:48:50.126524Z",
     "iopub.status.idle": "2023-02-14T14:48:50.130784Z",
     "shell.execute_reply": "2023-02-14T14:48:50.129942Z"
    },
    "papermill": {
     "duration": 0.016114,
     "end_time": "2023-02-14T14:48:50.132789",
     "exception": false,
     "start_time": "2023-02-14T14:48:50.116675",
     "status": "completed"
    },
    "tags": []
   },
   "outputs": [],
   "source": [
    "#q3.b.hint()"
   ]
  },
  {
   "cell_type": "code",
   "execution_count": 15,
   "id": "c0119d99",
   "metadata": {
    "execution": {
     "iopub.execute_input": "2023-02-14T14:48:50.151446Z",
     "iopub.status.busy": "2023-02-14T14:48:50.151013Z",
     "iopub.status.idle": "2023-02-14T14:48:50.159153Z",
     "shell.execute_reply": "2023-02-14T14:48:50.158315Z"
    },
    "papermill": {
     "duration": 0.019931,
     "end_time": "2023-02-14T14:48:50.161143",
     "exception": false,
     "start_time": "2023-02-14T14:48:50.141212",
     "status": "completed"
    },
    "tags": []
   },
   "outputs": [
    {
     "data": {
      "application/javascript": [
       "parent.postMessage({\"jupyterEvent\": \"custom.exercise_interaction\", \"data\": {\"interactionType\": 3, \"questionType\": 4, \"questionId\": \"3.2_ArithmeticParensHard\", \"learnToolsVersion\": \"0.3.4\", \"valueTowardsCompletion\": 0.0, \"failureMessage\": \"\", \"exceptionClass\": \"\", \"trace\": \"\", \"outcomeType\": 4}}, \"*\")"
      ],
      "text/plain": [
       "<IPython.core.display.Javascript object>"
      ]
     },
     "metadata": {},
     "output_type": "display_data"
    },
    {
     "data": {
      "text/markdown": [
       "<span style=\"color:#33cc99\">Solution:</span> `(8 - 3) * (2 - (1 + 1))` is one solution. There may be others."
      ],
      "text/plain": [
       "Solution: `(8 - 3) * (2 - (1 + 1))` is one solution. There may be others."
      ]
     },
     "metadata": {},
     "output_type": "display_data"
    }
   ],
   "source": [
    "# Check your answer (Run this code cell to receive credit!)\n",
    "q3.b.solution()"
   ]
  },
  {
   "cell_type": "markdown",
   "id": "c7e2a1b9",
   "metadata": {
    "papermill": {
     "duration": 0.008256,
     "end_time": "2023-02-14T14:48:50.178128",
     "exception": false,
     "start_time": "2023-02-14T14:48:50.169872",
     "status": "completed"
    },
    "tags": []
   },
   "source": [
    "<hr/>\n",
    "\n",
    "# 4. \n",
    "Alice, Bob and Carol have agreed to pool their Halloween candy and split it evenly among themselves.\n",
    "For the sake of their friendship, any candies left over will be smashed. For example, if they collectively\n",
    "bring home 91 candies, they'll take 30 each and smash 1.\n",
    "\n",
    "Write an arithmetic expression below to calculate how many candies they must smash for a given haul."
   ]
  },
  {
   "cell_type": "code",
   "execution_count": 16,
   "id": "7c07b6de",
   "metadata": {
    "execution": {
     "iopub.execute_input": "2023-02-14T14:48:50.197388Z",
     "iopub.status.busy": "2023-02-14T14:48:50.196966Z",
     "iopub.status.idle": "2023-02-14T14:48:50.206886Z",
     "shell.execute_reply": "2023-02-14T14:48:50.205768Z"
    },
    "papermill": {
     "duration": 0.02263,
     "end_time": "2023-02-14T14:48:50.209467",
     "exception": false,
     "start_time": "2023-02-14T14:48:50.186837",
     "status": "completed"
    },
    "tags": []
   },
   "outputs": [
    {
     "data": {
      "application/javascript": [
       "parent.postMessage({\"jupyterEvent\": \"custom.exercise_interaction\", \"data\": {\"outcomeType\": 1, \"valueTowardsCompletion\": 0.25, \"interactionType\": 1, \"questionType\": 1, \"questionId\": \"4_CandySplitting\", \"learnToolsVersion\": \"0.3.4\", \"failureMessage\": \"\", \"exceptionClass\": \"\", \"trace\": \"\"}}, \"*\")"
      ],
      "text/plain": [
       "<IPython.core.display.Javascript object>"
      ]
     },
     "metadata": {},
     "output_type": "display_data"
    },
    {
     "data": {
      "text/markdown": [
       "<span style=\"color:#33cc33\">Correct</span>"
      ],
      "text/plain": [
       "Correct"
      ]
     },
     "metadata": {},
     "output_type": "display_data"
    }
   ],
   "source": [
    "# Variables representing the number of candies collected by alice, bob, and carol\n",
    "alice_candies = 121\n",
    "bob_candies = 77\n",
    "carol_candies = 109\n",
    "\n",
    "# Your code goes here! Replace the right-hand side of this assignment with an expression\n",
    "# involving alice_candies, bob_candies, and carol_candies\n",
    "sum = alice_candies + bob_candies + carol_candies\n",
    "to_smash = sum - 3*(sum//3)\n",
    "\n",
    "# Check your answer\n",
    "q4.check()"
   ]
  },
  {
   "cell_type": "code",
   "execution_count": 17,
   "id": "66bed705",
   "metadata": {
    "execution": {
     "iopub.execute_input": "2023-02-14T14:48:50.229325Z",
     "iopub.status.busy": "2023-02-14T14:48:50.228942Z",
     "iopub.status.idle": "2023-02-14T14:48:50.233819Z",
     "shell.execute_reply": "2023-02-14T14:48:50.232522Z"
    },
    "papermill": {
     "duration": 0.017551,
     "end_time": "2023-02-14T14:48:50.236112",
     "exception": false,
     "start_time": "2023-02-14T14:48:50.218561",
     "status": "completed"
    },
    "tags": []
   },
   "outputs": [],
   "source": [
    "#q4.hint()\n",
    "#q4.solution()"
   ]
  },
  {
   "cell_type": "markdown",
   "id": "68a5afaf",
   "metadata": {
    "papermill": {
     "duration": 0.008719,
     "end_time": "2023-02-14T14:48:50.253847",
     "exception": false,
     "start_time": "2023-02-14T14:48:50.245128",
     "status": "completed"
    },
    "tags": []
   },
   "source": [
    "# Keep Going\n",
    "\n",
    "Next up, you'll **[learn to write new functions and understand functions others write](https://www.kaggle.com/colinmorris/functions-and-getting-help)**. This will make you at least 10 times more productive as a Python programmer. "
   ]
  },
  {
   "cell_type": "markdown",
   "id": "e1a3bcc4",
   "metadata": {
    "papermill": {
     "duration": 0.008659,
     "end_time": "2023-02-14T14:48:50.271349",
     "exception": false,
     "start_time": "2023-02-14T14:48:50.262690",
     "status": "completed"
    },
    "tags": []
   },
   "source": [
    "---\n",
    "\n",
    "\n",
    "\n",
    "\n",
    "*Have questions or comments? Visit the [course discussion forum](https://www.kaggle.com/learn/python/discussion) to chat with other learners.*"
   ]
  }
 ],
 "metadata": {
  "kernelspec": {
   "display_name": "Python 3",
   "language": "python",
   "name": "python3"
  },
  "language_info": {
   "codemirror_mode": {
    "name": "ipython",
    "version": 3
   },
   "file_extension": ".py",
   "mimetype": "text/x-python",
   "name": "python",
   "nbconvert_exporter": "python",
   "pygments_lexer": "ipython3",
   "version": "3.7.12"
  },
  "papermill": {
   "default_parameters": {},
   "duration": 9.690629,
   "end_time": "2023-02-14T14:48:50.901185",
   "environment_variables": {},
   "exception": null,
   "input_path": "__notebook__.ipynb",
   "output_path": "__notebook__.ipynb",
   "parameters": {},
   "start_time": "2023-02-14T14:48:41.210556",
   "version": "2.3.4"
  }
 },
 "nbformat": 4,
 "nbformat_minor": 5
}
