{
 "cells": [
  {
   "cell_type": "markdown",
   "id": "a3dd760e",
   "metadata": {
    "papermill": {
     "duration": 0.009408,
     "end_time": "2023-02-16T13:10:01.835775",
     "exception": false,
     "start_time": "2023-02-16T13:10:01.826367",
     "status": "completed"
    },
    "tags": []
   },
   "source": [
    "**This notebook is an exercise in the [Python](https://www.kaggle.com/learn/python) course.  You can reference the tutorial at [this link](https://www.kaggle.com/colinmorris/strings-and-dictionaries).**\n",
    "\n",
    "---\n"
   ]
  },
  {
   "cell_type": "markdown",
   "id": "98a2216c",
   "metadata": {
    "papermill": {
     "duration": 0.005267,
     "end_time": "2023-02-16T13:10:01.847258",
     "exception": false,
     "start_time": "2023-02-16T13:10:01.841991",
     "status": "completed"
    },
    "tags": []
   },
   "source": [
    "You are almost done with the course. Nice job!\n",
    "\n",
    "We have a couple more interesting problems for you before you go. \n",
    "\n",
    "As always, run the setup code below before working on the questions."
   ]
  },
  {
   "cell_type": "code",
   "execution_count": 1,
   "id": "59f037f2",
   "metadata": {
    "execution": {
     "iopub.execute_input": "2023-02-16T13:10:01.859959Z",
     "iopub.status.busy": "2023-02-16T13:10:01.859498Z",
     "iopub.status.idle": "2023-02-16T13:10:01.911467Z",
     "shell.execute_reply": "2023-02-16T13:10:01.910375Z"
    },
    "papermill": {
     "duration": 0.061313,
     "end_time": "2023-02-16T13:10:01.913995",
     "exception": false,
     "start_time": "2023-02-16T13:10:01.852682",
     "status": "completed"
    },
    "tags": []
   },
   "outputs": [
    {
     "name": "stdout",
     "output_type": "stream",
     "text": [
      "Setup complete.\n"
     ]
    }
   ],
   "source": [
    "from learntools.core import binder; binder.bind(globals())\n",
    "from learntools.python.ex6 import *\n",
    "print('Setup complete.')"
   ]
  },
  {
   "cell_type": "markdown",
   "id": "baa9767d",
   "metadata": {
    "papermill": {
     "duration": 0.00521,
     "end_time": "2023-02-16T13:10:01.924697",
     "exception": false,
     "start_time": "2023-02-16T13:10:01.919487",
     "status": "completed"
    },
    "tags": []
   },
   "source": [
    "Let's start with a string lightning round to warm up. What are the lengths of the strings below?\n",
    "\n",
    "For each of the five strings below, predict what `len()` would return when passed that string. Use the variable `length` to record your answer, then run the cell to check whether you were right.  \n",
    "\n",
    "# 0a."
   ]
  },
  {
   "cell_type": "code",
   "execution_count": 2,
   "id": "7c817d5d",
   "metadata": {
    "execution": {
     "iopub.execute_input": "2023-02-16T13:10:01.936560Z",
     "iopub.status.busy": "2023-02-16T13:10:01.936124Z",
     "iopub.status.idle": "2023-02-16T13:10:01.946857Z",
     "shell.execute_reply": "2023-02-16T13:10:01.945802Z"
    },
    "papermill": {
     "duration": 0.019196,
     "end_time": "2023-02-16T13:10:01.949071",
     "exception": false,
     "start_time": "2023-02-16T13:10:01.929875",
     "status": "completed"
    },
    "tags": []
   },
   "outputs": [
    {
     "data": {
      "application/javascript": [
       "parent.postMessage({\"jupyterEvent\": \"custom.exercise_interaction\", \"data\": {\"outcomeType\": 1, \"valueTowardsCompletion\": 0.3333333333333333, \"interactionType\": 1, \"questionType\": 1, \"questionId\": \"0.1_ZA\", \"learnToolsVersion\": \"0.3.4\", \"failureMessage\": \"\", \"exceptionClass\": \"\", \"trace\": \"\"}}, \"*\")"
      ],
      "text/plain": [
       "<IPython.core.display.Javascript object>"
      ]
     },
     "metadata": {},
     "output_type": "display_data"
    },
    {
     "data": {
      "text/markdown": [
       "<span style=\"color:#33cc33\">Correct:</span> \n",
       "\n",
       "The empty string has length zero. Note that the empty string is also the only string that Python considers as False when converting to boolean."
      ],
      "text/plain": [
       "Correct: \n",
       "\n",
       "The empty string has length zero. Note that the empty string is also the only string that Python considers as False when converting to boolean."
      ]
     },
     "metadata": {},
     "output_type": "display_data"
    }
   ],
   "source": [
    "a = \"\"\n",
    "length = 0\n",
    "q0.a.check()"
   ]
  },
  {
   "cell_type": "markdown",
   "id": "aa146d7e",
   "metadata": {
    "papermill": {
     "duration": 0.005335,
     "end_time": "2023-02-16T13:10:01.960049",
     "exception": false,
     "start_time": "2023-02-16T13:10:01.954714",
     "status": "completed"
    },
    "tags": []
   },
   "source": [
    "# 0b."
   ]
  },
  {
   "cell_type": "code",
   "execution_count": 3,
   "id": "9e90d1e8",
   "metadata": {
    "execution": {
     "iopub.execute_input": "2023-02-16T13:10:01.973013Z",
     "iopub.status.busy": "2023-02-16T13:10:01.972249Z",
     "iopub.status.idle": "2023-02-16T13:10:01.980988Z",
     "shell.execute_reply": "2023-02-16T13:10:01.980012Z"
    },
    "papermill": {
     "duration": 0.017937,
     "end_time": "2023-02-16T13:10:01.983372",
     "exception": false,
     "start_time": "2023-02-16T13:10:01.965435",
     "status": "completed"
    },
    "tags": []
   },
   "outputs": [
    {
     "data": {
      "application/javascript": [
       "parent.postMessage({\"jupyterEvent\": \"custom.exercise_interaction\", \"data\": {\"outcomeType\": 1, \"valueTowardsCompletion\": 0.3333333333333333, \"interactionType\": 1, \"questionType\": 1, \"questionId\": \"0.2_ZB\", \"learnToolsVersion\": \"0.3.4\", \"failureMessage\": \"\", \"exceptionClass\": \"\", \"trace\": \"\"}}, \"*\")"
      ],
      "text/plain": [
       "<IPython.core.display.Javascript object>"
      ]
     },
     "metadata": {},
     "output_type": "display_data"
    },
    {
     "data": {
      "text/markdown": [
       "<span style=\"color:#33cc33\">Correct:</span> \n",
       "\n",
       "Keep in mind Python includes spaces (and punctuation) when counting string length."
      ],
      "text/plain": [
       "Correct: \n",
       "\n",
       "Keep in mind Python includes spaces (and punctuation) when counting string length."
      ]
     },
     "metadata": {},
     "output_type": "display_data"
    }
   ],
   "source": [
    "b = \"it's ok\"\n",
    "length = 7\n",
    "q0.b.check()"
   ]
  },
  {
   "cell_type": "markdown",
   "id": "66280f82",
   "metadata": {
    "papermill": {
     "duration": 0.005493,
     "end_time": "2023-02-16T13:10:01.994588",
     "exception": false,
     "start_time": "2023-02-16T13:10:01.989095",
     "status": "completed"
    },
    "tags": []
   },
   "source": [
    "# 0c."
   ]
  },
  {
   "cell_type": "code",
   "execution_count": 4,
   "id": "aa63c7ce",
   "metadata": {
    "execution": {
     "iopub.execute_input": "2023-02-16T13:10:02.008517Z",
     "iopub.status.busy": "2023-02-16T13:10:02.007661Z",
     "iopub.status.idle": "2023-02-16T13:10:02.017730Z",
     "shell.execute_reply": "2023-02-16T13:10:02.016876Z"
    },
    "papermill": {
     "duration": 0.01922,
     "end_time": "2023-02-16T13:10:02.019894",
     "exception": false,
     "start_time": "2023-02-16T13:10:02.000674",
     "status": "completed"
    },
    "tags": []
   },
   "outputs": [
    {
     "data": {
      "application/javascript": [
       "parent.postMessage({\"jupyterEvent\": \"custom.exercise_interaction\", \"data\": {\"outcomeType\": 1, \"valueTowardsCompletion\": 0.3333333333333333, \"interactionType\": 1, \"questionType\": 1, \"questionId\": \"0.3_ZC\", \"learnToolsVersion\": \"0.3.4\", \"failureMessage\": \"\", \"exceptionClass\": \"\", \"trace\": \"\"}}, \"*\")"
      ],
      "text/plain": [
       "<IPython.core.display.Javascript object>"
      ]
     },
     "metadata": {},
     "output_type": "display_data"
    },
    {
     "data": {
      "text/markdown": [
       "<span style=\"color:#33cc33\">Correct:</span> \n",
       "\n",
       "Even though we use different syntax to create it, the string `c` is identical to `b`. In particular, note that the backslash is not part of the string, so it doesn't contribute to its length."
      ],
      "text/plain": [
       "Correct: \n",
       "\n",
       "Even though we use different syntax to create it, the string `c` is identical to `b`. In particular, note that the backslash is not part of the string, so it doesn't contribute to its length."
      ]
     },
     "metadata": {},
     "output_type": "display_data"
    }
   ],
   "source": [
    "c = 'it\\'s ok'\n",
    "length = 7\n",
    "q0.c.check()"
   ]
  },
  {
   "cell_type": "markdown",
   "id": "ad10f4d9",
   "metadata": {
    "papermill": {
     "duration": 0.005836,
     "end_time": "2023-02-16T13:10:02.031875",
     "exception": false,
     "start_time": "2023-02-16T13:10:02.026039",
     "status": "completed"
    },
    "tags": []
   },
   "source": [
    "# 0d."
   ]
  },
  {
   "cell_type": "code",
   "execution_count": 5,
   "id": "22083a36",
   "metadata": {
    "execution": {
     "iopub.execute_input": "2023-02-16T13:10:02.045697Z",
     "iopub.status.busy": "2023-02-16T13:10:02.044991Z",
     "iopub.status.idle": "2023-02-16T13:10:02.053211Z",
     "shell.execute_reply": "2023-02-16T13:10:02.052516Z"
    },
    "papermill": {
     "duration": 0.017431,
     "end_time": "2023-02-16T13:10:02.055060",
     "exception": false,
     "start_time": "2023-02-16T13:10:02.037629",
     "status": "completed"
    },
    "tags": []
   },
   "outputs": [
    {
     "data": {
      "application/javascript": [
       "parent.postMessage({\"jupyterEvent\": \"custom.exercise_interaction\", \"data\": {\"outcomeType\": 1, \"valueTowardsCompletion\": 0.3333333333333333, \"interactionType\": 1, \"questionType\": 1, \"questionId\": \"0.4_ZD\", \"learnToolsVersion\": \"0.3.4\", \"failureMessage\": \"\", \"exceptionClass\": \"\", \"trace\": \"\"}}, \"*\")"
      ],
      "text/plain": [
       "<IPython.core.display.Javascript object>"
      ]
     },
     "metadata": {},
     "output_type": "display_data"
    },
    {
     "data": {
      "text/markdown": [
       "<span style=\"color:#33cc33\">Correct:</span> \n",
       "\n",
       "The fact that this string was created using triple-quote syntax doesn't make any difference in terms of its content or length. This string is exactly the same as `'hey'`."
      ],
      "text/plain": [
       "Correct: \n",
       "\n",
       "The fact that this string was created using triple-quote syntax doesn't make any difference in terms of its content or length. This string is exactly the same as `'hey'`."
      ]
     },
     "metadata": {},
     "output_type": "display_data"
    }
   ],
   "source": [
    "d = \"\"\"hey\"\"\"\n",
    "length = 3\n",
    "q0.d.check()"
   ]
  },
  {
   "cell_type": "markdown",
   "id": "7c077898",
   "metadata": {
    "papermill": {
     "duration": 0.007418,
     "end_time": "2023-02-16T13:10:02.069771",
     "exception": false,
     "start_time": "2023-02-16T13:10:02.062353",
     "status": "completed"
    },
    "tags": []
   },
   "source": [
    "# 0e."
   ]
  },
  {
   "cell_type": "code",
   "execution_count": 6,
   "id": "4cd2e93e",
   "metadata": {
    "execution": {
     "iopub.execute_input": "2023-02-16T13:10:02.084440Z",
     "iopub.status.busy": "2023-02-16T13:10:02.083497Z",
     "iopub.status.idle": "2023-02-16T13:10:02.091690Z",
     "shell.execute_reply": "2023-02-16T13:10:02.090702Z"
    },
    "papermill": {
     "duration": 0.018059,
     "end_time": "2023-02-16T13:10:02.093899",
     "exception": false,
     "start_time": "2023-02-16T13:10:02.075840",
     "status": "completed"
    },
    "tags": []
   },
   "outputs": [
    {
     "data": {
      "application/javascript": [
       "parent.postMessage({\"jupyterEvent\": \"custom.exercise_interaction\", \"data\": {\"outcomeType\": 1, \"valueTowardsCompletion\": 0.3333333333333333, \"interactionType\": 1, \"questionType\": 1, \"questionId\": \"0.5_ZE\", \"learnToolsVersion\": \"0.3.4\", \"failureMessage\": \"\", \"exceptionClass\": \"\", \"trace\": \"\"}}, \"*\")"
      ],
      "text/plain": [
       "<IPython.core.display.Javascript object>"
      ]
     },
     "metadata": {},
     "output_type": "display_data"
    },
    {
     "data": {
      "text/markdown": [
       "<span style=\"color:#33cc33\">Correct:</span> \n",
       "\n",
       "The newline character is just a single character! (Even though we represent it to Python using a combination of two characters.)"
      ],
      "text/plain": [
       "Correct: \n",
       "\n",
       "The newline character is just a single character! (Even though we represent it to Python using a combination of two characters.)"
      ]
     },
     "metadata": {},
     "output_type": "display_data"
    }
   ],
   "source": [
    "e = '\\n'\n",
    "length = 1\n",
    "q0.e.check()"
   ]
  },
  {
   "cell_type": "markdown",
   "id": "44264a25",
   "metadata": {
    "papermill": {
     "duration": 0.006119,
     "end_time": "2023-02-16T13:10:02.106479",
     "exception": false,
     "start_time": "2023-02-16T13:10:02.100360",
     "status": "completed"
    },
    "tags": []
   },
   "source": [
    "# 1.\n",
    "\n",
    "There is a saying that \"Data scientists spend 80% of their time cleaning data, and 20% of their time complaining about cleaning data.\" Let's see if you can write a function to help clean US zip code data. Given a string, it should return whether or not that string represents a valid zip code. For our purposes, a valid zip code is any string consisting of exactly 5 digits.\n",
    "\n",
    "HINT: `str` has a method that will be useful here. Use `help(str)` to review a list of string methods."
   ]
  },
  {
   "cell_type": "code",
   "execution_count": 7,
   "id": "fcc40cad",
   "metadata": {
    "execution": {
     "iopub.execute_input": "2023-02-16T13:10:02.120986Z",
     "iopub.status.busy": "2023-02-16T13:10:02.120381Z",
     "iopub.status.idle": "2023-02-16T13:10:02.127678Z",
     "shell.execute_reply": "2023-02-16T13:10:02.126974Z"
    },
    "papermill": {
     "duration": 0.01688,
     "end_time": "2023-02-16T13:10:02.129635",
     "exception": false,
     "start_time": "2023-02-16T13:10:02.112755",
     "status": "completed"
    },
    "tags": []
   },
   "outputs": [
    {
     "data": {
      "application/javascript": [
       "parent.postMessage({\"jupyterEvent\": \"custom.exercise_interaction\", \"data\": {\"outcomeType\": 1, \"valueTowardsCompletion\": 0.3333333333333333, \"interactionType\": 1, \"questionType\": 2, \"questionId\": \"1_ZipValidator\", \"learnToolsVersion\": \"0.3.4\", \"failureMessage\": \"\", \"exceptionClass\": \"\", \"trace\": \"\"}}, \"*\")"
      ],
      "text/plain": [
       "<IPython.core.display.Javascript object>"
      ]
     },
     "metadata": {},
     "output_type": "display_data"
    },
    {
     "data": {
      "text/markdown": [
       "<span style=\"color:#33cc33\">Correct</span>"
      ],
      "text/plain": [
       "Correct"
      ]
     },
     "metadata": {},
     "output_type": "display_data"
    }
   ],
   "source": [
    "def is_valid_zip(zip_code):\n",
    "    \"\"\"Returns whether the input string is a valid (5 digit) zip code\n",
    "    \"\"\"\n",
    "    \n",
    "    return len([ch for ch in zip_code if ch.isdigit()]) == 5\n",
    "\n",
    "# Check your answer\n",
    "q1.check()"
   ]
  },
  {
   "cell_type": "code",
   "execution_count": 8,
   "id": "9855ce6e",
   "metadata": {
    "execution": {
     "iopub.execute_input": "2023-02-16T13:10:02.144984Z",
     "iopub.status.busy": "2023-02-16T13:10:02.144376Z",
     "iopub.status.idle": "2023-02-16T13:10:02.147863Z",
     "shell.execute_reply": "2023-02-16T13:10:02.147168Z"
    },
    "papermill": {
     "duration": 0.013424,
     "end_time": "2023-02-16T13:10:02.149786",
     "exception": false,
     "start_time": "2023-02-16T13:10:02.136362",
     "status": "completed"
    },
    "tags": []
   },
   "outputs": [],
   "source": [
    "#q1.hint()\n",
    "#q1.solution()"
   ]
  },
  {
   "cell_type": "markdown",
   "id": "e88a20fd",
   "metadata": {
    "papermill": {
     "duration": 0.006328,
     "end_time": "2023-02-16T13:10:02.162933",
     "exception": false,
     "start_time": "2023-02-16T13:10:02.156605",
     "status": "completed"
    },
    "tags": []
   },
   "source": [
    "# 2.\n",
    "\n",
    "A researcher has gathered thousands of news articles. But she wants to focus her attention on articles including a specific word. Complete the function below to help her filter her list of articles.\n",
    "\n",
    "Your function should meet the following criteria:\n",
    "\n",
    "- Do not include documents where the keyword string shows up only as a part of a larger word. For example, if she were looking for the keyword “closed”, you would not include the string “enclosed.” \n",
    "- She does not want you to distinguish upper case from lower case letters. So the phrase “Closed the case.” would be included when the keyword is “closed”\n",
    "- Do not let periods or commas affect what is matched. “It is closed.” would be included when the keyword is “closed”. But you can assume there are no other types of punctuation."
   ]
  },
  {
   "cell_type": "code",
   "execution_count": 9,
   "id": "98f4fbf9",
   "metadata": {
    "execution": {
     "iopub.execute_input": "2023-02-16T13:10:02.178169Z",
     "iopub.status.busy": "2023-02-16T13:10:02.177572Z",
     "iopub.status.idle": "2023-02-16T13:10:02.187761Z",
     "shell.execute_reply": "2023-02-16T13:10:02.186806Z"
    },
    "papermill": {
     "duration": 0.02006,
     "end_time": "2023-02-16T13:10:02.189626",
     "exception": false,
     "start_time": "2023-02-16T13:10:02.169566",
     "status": "completed"
    },
    "tags": []
   },
   "outputs": [
    {
     "data": {
      "application/javascript": [
       "parent.postMessage({\"jupyterEvent\": \"custom.exercise_interaction\", \"data\": {\"outcomeType\": 1, \"valueTowardsCompletion\": 0.3333333333333333, \"interactionType\": 1, \"questionType\": 2, \"questionId\": \"2_WordSearch\", \"learnToolsVersion\": \"0.3.4\", \"failureMessage\": \"\", \"exceptionClass\": \"\", \"trace\": \"\"}}, \"*\")"
      ],
      "text/plain": [
       "<IPython.core.display.Javascript object>"
      ]
     },
     "metadata": {},
     "output_type": "display_data"
    },
    {
     "data": {
      "text/markdown": [
       "<span style=\"color:#33cc33\">Correct</span>"
      ],
      "text/plain": [
       "Correct"
      ]
     },
     "metadata": {},
     "output_type": "display_data"
    }
   ],
   "source": [
    "def word_search(doc_list, keyword):\n",
    "    \"\"\"\n",
    "    Takes a list of documents (each document is a string) and a keyword. \n",
    "    Returns list of the index values into the original list for all documents \n",
    "    containing the keyword.\n",
    "\n",
    "    Example:\n",
    "    doc_list = [\"The Learn Python Challenge Casino.\", \"They bought a car\", \"Casinoville\"]\n",
    "    >>> word_search(doc_list, 'casino')\n",
    "    >>> [0]\n",
    "    \"\"\"\n",
    "    counter = 0\n",
    "    result = []\n",
    "    for sentence in doc_list:\n",
    "        for word in sentence.split():\n",
    "            if word[-1] == '.' or word[-1] == ',':\n",
    "                word = word[0:-1]\n",
    "            if keyword.lower() == word.lower():\n",
    "                result.append(counter)\n",
    "                break\n",
    "        counter+=1 \n",
    "    return result    \n",
    "\n",
    "# Check your answer\n",
    "q2.check()"
   ]
  },
  {
   "cell_type": "code",
   "execution_count": 10,
   "id": "499a38de",
   "metadata": {
    "execution": {
     "iopub.execute_input": "2023-02-16T13:10:02.204324Z",
     "iopub.status.busy": "2023-02-16T13:10:02.203985Z",
     "iopub.status.idle": "2023-02-16T13:10:02.207956Z",
     "shell.execute_reply": "2023-02-16T13:10:02.206990Z"
    },
    "papermill": {
     "duration": 0.013518,
     "end_time": "2023-02-16T13:10:02.209839",
     "exception": false,
     "start_time": "2023-02-16T13:10:02.196321",
     "status": "completed"
    },
    "tags": []
   },
   "outputs": [],
   "source": [
    "#q2.hint()\n",
    "#q2.solution()"
   ]
  },
  {
   "cell_type": "markdown",
   "id": "e97c4f6d",
   "metadata": {
    "papermill": {
     "duration": 0.0068,
     "end_time": "2023-02-16T13:10:02.223555",
     "exception": false,
     "start_time": "2023-02-16T13:10:02.216755",
     "status": "completed"
    },
    "tags": []
   },
   "source": [
    "# 3.\n",
    "\n",
    "Now the researcher wants to supply multiple keywords to search for. Complete the function below to help her.\n",
    "\n",
    "(You're encouraged to use the `word_search` function you just wrote when implementing this function. Reusing code in this way makes your programs more robust and readable - and it saves typing!)"
   ]
  },
  {
   "cell_type": "code",
   "execution_count": 11,
   "id": "4986c59d",
   "metadata": {
    "execution": {
     "iopub.execute_input": "2023-02-16T13:10:02.238517Z",
     "iopub.status.busy": "2023-02-16T13:10:02.238113Z",
     "iopub.status.idle": "2023-02-16T13:10:02.247892Z",
     "shell.execute_reply": "2023-02-16T13:10:02.246882Z"
    },
    "papermill": {
     "duration": 0.019486,
     "end_time": "2023-02-16T13:10:02.249931",
     "exception": false,
     "start_time": "2023-02-16T13:10:02.230445",
     "status": "completed"
    },
    "tags": []
   },
   "outputs": [
    {
     "data": {
      "application/javascript": [
       "parent.postMessage({\"jupyterEvent\": \"custom.exercise_interaction\", \"data\": {\"outcomeType\": 1, \"valueTowardsCompletion\": 0.3333333333333333, \"interactionType\": 1, \"questionType\": 2, \"questionId\": \"3_MultiWordSearch\", \"learnToolsVersion\": \"0.3.4\", \"failureMessage\": \"\", \"exceptionClass\": \"\", \"trace\": \"\"}}, \"*\")"
      ],
      "text/plain": [
       "<IPython.core.display.Javascript object>"
      ]
     },
     "metadata": {},
     "output_type": "display_data"
    },
    {
     "data": {
      "text/markdown": [
       "<span style=\"color:#33cc33\">Correct</span>"
      ],
      "text/plain": [
       "Correct"
      ]
     },
     "metadata": {},
     "output_type": "display_data"
    }
   ],
   "source": [
    "def multi_word_search(doc_list, keywords):\n",
    "    \"\"\"\n",
    "    Takes list of documents (each document is a string) and a list of keywords.  \n",
    "    Returns a dictionary where each key is a keyword, and the value is a list of indices\n",
    "    (from doc_list) of the documents containing that keyword\n",
    "\n",
    "    >>> doc_list = [\"The Learn Python Challenge Casino.\", \"They bought a car and a casino\", \"Casinoville\"]\n",
    "    >>> keywords = ['casino', 'they']\n",
    "    >>> multi_word_search(doc_list, keywords)\n",
    "    {'casino': [0, 1], 'they': [1]}\n",
    "    \"\"\"\n",
    "    return {keyword : word_search(doc_list, keyword) for keyword in keywords}\n",
    "    \n",
    "# Check your answer\n",
    "q3.check()"
   ]
  },
  {
   "cell_type": "code",
   "execution_count": 12,
   "id": "d3c3bdaa",
   "metadata": {
    "execution": {
     "iopub.execute_input": "2023-02-16T13:10:02.265306Z",
     "iopub.status.busy": "2023-02-16T13:10:02.264959Z",
     "iopub.status.idle": "2023-02-16T13:10:02.269482Z",
     "shell.execute_reply": "2023-02-16T13:10:02.268522Z"
    },
    "papermill": {
     "duration": 0.014635,
     "end_time": "2023-02-16T13:10:02.271504",
     "exception": false,
     "start_time": "2023-02-16T13:10:02.256869",
     "status": "completed"
    },
    "tags": []
   },
   "outputs": [],
   "source": [
    "#q3.solution()"
   ]
  },
  {
   "cell_type": "markdown",
   "id": "4e202472",
   "metadata": {
    "papermill": {
     "duration": 0.006891,
     "end_time": "2023-02-16T13:10:02.285674",
     "exception": false,
     "start_time": "2023-02-16T13:10:02.278783",
     "status": "completed"
    },
    "tags": []
   },
   "source": [
    "# Keep Going\n",
    "\n",
    "You've learned a lot. But even the best programmers rely heavily on \"libraries\" of code from other programmers. You'll learn about that in **[the last lesson](https://www.kaggle.com/colinmorris/working-with-external-libraries)**.\n"
   ]
  },
  {
   "cell_type": "markdown",
   "id": "b2b27c99",
   "metadata": {
    "papermill": {
     "duration": 0.006958,
     "end_time": "2023-02-16T13:10:02.299606",
     "exception": false,
     "start_time": "2023-02-16T13:10:02.292648",
     "status": "completed"
    },
    "tags": []
   },
   "source": [
    "---\n",
    "\n",
    "\n",
    "\n",
    "\n",
    "*Have questions or comments? Visit the [course discussion forum](https://www.kaggle.com/learn/python/discussion) to chat with other learners.*"
   ]
  }
 ],
 "metadata": {
  "kernelspec": {
   "display_name": "Python 3",
   "language": "python",
   "name": "python3"
  },
  "language_info": {
   "codemirror_mode": {
    "name": "ipython",
    "version": 3
   },
   "file_extension": ".py",
   "mimetype": "text/x-python",
   "name": "python",
   "nbconvert_exporter": "python",
   "pygments_lexer": "ipython3",
   "version": "3.7.12"
  },
  "papermill": {
   "default_parameters": {},
   "duration": 9.015111,
   "end_time": "2023-02-16T13:10:02.926714",
   "environment_variables": {},
   "exception": null,
   "input_path": "__notebook__.ipynb",
   "output_path": "__notebook__.ipynb",
   "parameters": {},
   "start_time": "2023-02-16T13:09:53.911603",
   "version": "2.3.4"
  }
 },
 "nbformat": 4,
 "nbformat_minor": 5
}
