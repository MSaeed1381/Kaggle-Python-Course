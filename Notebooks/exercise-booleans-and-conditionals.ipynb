{
 "cells": [
  {
   "cell_type": "markdown",
   "id": "281e45bf",
   "metadata": {
    "papermill": {
     "duration": 0.011789,
     "end_time": "2023-02-15T14:06:41.819797",
     "exception": false,
     "start_time": "2023-02-15T14:06:41.808008",
     "status": "completed"
    },
    "tags": []
   },
   "source": [
    "**This notebook is an exercise in the [Python](https://www.kaggle.com/learn/python) course.  You can reference the tutorial at [this link](https://www.kaggle.com/colinmorris/booleans-and-conditionals).**\n",
    "\n",
    "---\n"
   ]
  },
  {
   "cell_type": "markdown",
   "id": "1dd328a8",
   "metadata": {
    "papermill": {
     "duration": 0.009171,
     "end_time": "2023-02-15T14:06:41.838921",
     "exception": false,
     "start_time": "2023-02-15T14:06:41.829750",
     "status": "completed"
    },
    "tags": []
   },
   "source": [
    "In this exercise, you'll put to work what you have learned about booleans and conditionals.\n",
    "\n",
    "To get started, **run the setup code below** before writing your own code (and if you leave this notebook and come back later, don't forget to run the setup code again)."
   ]
  },
  {
   "cell_type": "code",
   "execution_count": 1,
   "id": "bc700bcb",
   "metadata": {
    "execution": {
     "iopub.execute_input": "2023-02-15T14:06:41.867010Z",
     "iopub.status.busy": "2023-02-15T14:06:41.866396Z",
     "iopub.status.idle": "2023-02-15T14:06:41.932263Z",
     "shell.execute_reply": "2023-02-15T14:06:41.930862Z"
    },
    "papermill": {
     "duration": 0.085974,
     "end_time": "2023-02-15T14:06:41.935088",
     "exception": false,
     "start_time": "2023-02-15T14:06:41.849114",
     "status": "completed"
    },
    "tags": []
   },
   "outputs": [
    {
     "name": "stdout",
     "output_type": "stream",
     "text": [
      "Setup complete.\n"
     ]
    }
   ],
   "source": [
    "from learntools.core import binder; binder.bind(globals())\n",
    "from learntools.python.ex3 import *\n",
    "print('Setup complete.')"
   ]
  },
  {
   "cell_type": "markdown",
   "id": "d5eaa3ee",
   "metadata": {
    "papermill": {
     "duration": 0.009266,
     "end_time": "2023-02-15T14:06:41.954499",
     "exception": false,
     "start_time": "2023-02-15T14:06:41.945233",
     "status": "completed"
    },
    "tags": []
   },
   "source": [
    "# 1.\n",
    "\n",
    "Many programming languages have [`sign`](https://en.wikipedia.org/wiki/Sign_function) available as a built-in function. Python doesn't, but we can define our own!\n",
    "\n",
    "In the cell below, define a function called `sign` which takes a numerical argument and returns -1 if it's negative, 1 if it's positive, and 0 if it's 0."
   ]
  },
  {
   "cell_type": "code",
   "execution_count": 2,
   "id": "7ef17943",
   "metadata": {
    "execution": {
     "iopub.execute_input": "2023-02-15T14:06:41.979244Z",
     "iopub.status.busy": "2023-02-15T14:06:41.978826Z",
     "iopub.status.idle": "2023-02-15T14:06:41.991566Z",
     "shell.execute_reply": "2023-02-15T14:06:41.990571Z"
    },
    "papermill": {
     "duration": 0.033953,
     "end_time": "2023-02-15T14:06:42.001560",
     "exception": false,
     "start_time": "2023-02-15T14:06:41.967607",
     "status": "completed"
    },
    "tags": []
   },
   "outputs": [
    {
     "data": {
      "application/javascript": [
       "parent.postMessage({\"jupyterEvent\": \"custom.exercise_interaction\", \"data\": {\"outcomeType\": 1, \"valueTowardsCompletion\": 0.2, \"interactionType\": 1, \"questionType\": 2, \"questionId\": \"1_SignFunctionProblem\", \"learnToolsVersion\": \"0.3.4\", \"failureMessage\": \"\", \"exceptionClass\": \"\", \"trace\": \"\"}}, \"*\")"
      ],
      "text/plain": [
       "<IPython.core.display.Javascript object>"
      ]
     },
     "metadata": {},
     "output_type": "display_data"
    },
    {
     "data": {
      "text/markdown": [
       "<span style=\"color:#33cc33\">Correct</span>"
      ],
      "text/plain": [
       "Correct"
      ]
     },
     "metadata": {},
     "output_type": "display_data"
    }
   ],
   "source": [
    "# Your code goes here. Define a function called 'sign'\n",
    "def sign(number: int):\n",
    "    if number == 0:\n",
    "        return 0\n",
    "    elif number > 0:\n",
    "        return 1\n",
    "    else:\n",
    "        return -1\n",
    "# Check your answer\n",
    "q1.check()"
   ]
  },
  {
   "cell_type": "code",
   "execution_count": 3,
   "id": "ce6d1d79",
   "metadata": {
    "execution": {
     "iopub.execute_input": "2023-02-15T14:06:42.027004Z",
     "iopub.status.busy": "2023-02-15T14:06:42.026608Z",
     "iopub.status.idle": "2023-02-15T14:06:42.037945Z",
     "shell.execute_reply": "2023-02-15T14:06:42.037003Z"
    },
    "papermill": {
     "duration": 0.025404,
     "end_time": "2023-02-15T14:06:42.040754",
     "exception": false,
     "start_time": "2023-02-15T14:06:42.015350",
     "status": "completed"
    },
    "tags": []
   },
   "outputs": [
    {
     "data": {
      "application/javascript": [
       "parent.postMessage({\"jupyterEvent\": \"custom.exercise_interaction\", \"data\": {\"interactionType\": 3, \"questionType\": 2, \"questionId\": \"1_SignFunctionProblem\", \"learnToolsVersion\": \"0.3.4\", \"valueTowardsCompletion\": 0.0, \"failureMessage\": \"\", \"exceptionClass\": \"\", \"trace\": \"\", \"outcomeType\": 4}}, \"*\")"
      ],
      "text/plain": [
       "<IPython.core.display.Javascript object>"
      ]
     },
     "metadata": {},
     "output_type": "display_data"
    },
    {
     "data": {
      "text/markdown": [
       "<span style=\"color:#33cc99\">Solution:</span> \n",
       "```python\n",
       "def sign(x):\n",
       "    if x > 0:\n",
       "        return 1\n",
       "    elif x < 0:\n",
       "        return -1\n",
       "    else:\n",
       "        return 0\n",
       "```"
      ],
      "text/plain": [
       "Solution: \n",
       "```python\n",
       "def sign(x):\n",
       "    if x > 0:\n",
       "        return 1\n",
       "    elif x < 0:\n",
       "        return -1\n",
       "    else:\n",
       "        return 0\n",
       "```"
      ]
     },
     "metadata": {},
     "output_type": "display_data"
    }
   ],
   "source": [
    "q1.solution()"
   ]
  },
  {
   "cell_type": "markdown",
   "id": "c0037547",
   "metadata": {
    "papermill": {
     "duration": 0.010179,
     "end_time": "2023-02-15T14:06:42.061881",
     "exception": false,
     "start_time": "2023-02-15T14:06:42.051702",
     "status": "completed"
    },
    "tags": []
   },
   "source": [
    "# 2.\n",
    "\n",
    "We've decided to add \"logging\" to our `to_smash` function from the previous exercise."
   ]
  },
  {
   "cell_type": "code",
   "execution_count": 4,
   "id": "a1e2e7b5",
   "metadata": {
    "execution": {
     "iopub.execute_input": "2023-02-15T14:06:42.085674Z",
     "iopub.status.busy": "2023-02-15T14:06:42.085128Z",
     "iopub.status.idle": "2023-02-15T14:06:42.102250Z",
     "shell.execute_reply": "2023-02-15T14:06:42.101256Z"
    },
    "papermill": {
     "duration": 0.032605,
     "end_time": "2023-02-15T14:06:42.105342",
     "exception": false,
     "start_time": "2023-02-15T14:06:42.072737",
     "status": "completed"
    },
    "tags": []
   },
   "outputs": [
    {
     "name": "stdout",
     "output_type": "stream",
     "text": [
      "Splitting 91 candies\n"
     ]
    },
    {
     "data": {
      "text/plain": [
       "1"
      ]
     },
     "execution_count": 4,
     "metadata": {},
     "output_type": "execute_result"
    }
   ],
   "source": [
    "def to_smash(total_candies):\n",
    "    \"\"\"Return the number of leftover candies that must be smashed after distributing\n",
    "    the given number of candies evenly between 3 friends.\n",
    "    \n",
    "    >>> to_smash(91)\n",
    "    1\n",
    "    \"\"\"\n",
    "    print(\"Splitting\", total_candies, \"candies\")\n",
    "    return total_candies % 3\n",
    "\n",
    "to_smash(91)"
   ]
  },
  {
   "cell_type": "markdown",
   "id": "875794ba",
   "metadata": {
    "papermill": {
     "duration": 0.014692,
     "end_time": "2023-02-15T14:06:42.135563",
     "exception": false,
     "start_time": "2023-02-15T14:06:42.120871",
     "status": "completed"
    },
    "tags": []
   },
   "source": [
    "What happens if we call it with `total_candies = 1`?"
   ]
  },
  {
   "cell_type": "code",
   "execution_count": 5,
   "id": "d22fa922",
   "metadata": {
    "execution": {
     "iopub.execute_input": "2023-02-15T14:06:42.161934Z",
     "iopub.status.busy": "2023-02-15T14:06:42.160945Z",
     "iopub.status.idle": "2023-02-15T14:06:42.169764Z",
     "shell.execute_reply": "2023-02-15T14:06:42.168633Z"
    },
    "papermill": {
     "duration": 0.023119,
     "end_time": "2023-02-15T14:06:42.172079",
     "exception": false,
     "start_time": "2023-02-15T14:06:42.148960",
     "status": "completed"
    },
    "tags": []
   },
   "outputs": [
    {
     "name": "stdout",
     "output_type": "stream",
     "text": [
      "Splitting 1 candies\n"
     ]
    },
    {
     "data": {
      "text/plain": [
       "1"
      ]
     },
     "execution_count": 5,
     "metadata": {},
     "output_type": "execute_result"
    }
   ],
   "source": [
    "to_smash(1)"
   ]
  },
  {
   "cell_type": "markdown",
   "id": "32e0b27d",
   "metadata": {
    "papermill": {
     "duration": 0.011857,
     "end_time": "2023-02-15T14:06:42.194417",
     "exception": false,
     "start_time": "2023-02-15T14:06:42.182560",
     "status": "completed"
    },
    "tags": []
   },
   "source": [
    "That isn't great grammar!\n",
    "\n",
    "Modify the definition in the cell below to correct the grammar of our print statement. (If there's only one candy, we should use the singular \"candy\" instead of the plural \"candies\")"
   ]
  },
  {
   "cell_type": "code",
   "execution_count": 6,
   "id": "1ea056be",
   "metadata": {
    "execution": {
     "iopub.execute_input": "2023-02-15T14:06:42.218410Z",
     "iopub.status.busy": "2023-02-15T14:06:42.217547Z",
     "iopub.status.idle": "2023-02-15T14:06:42.230133Z",
     "shell.execute_reply": "2023-02-15T14:06:42.228503Z"
    },
    "papermill": {
     "duration": 0.02898,
     "end_time": "2023-02-15T14:06:42.233861",
     "exception": false,
     "start_time": "2023-02-15T14:06:42.204881",
     "status": "completed"
    },
    "tags": []
   },
   "outputs": [
    {
     "name": "stdout",
     "output_type": "stream",
     "text": [
      "Splitting 91 candies\n",
      "Splitting 1 candy\n"
     ]
    },
    {
     "data": {
      "text/plain": [
       "1"
      ]
     },
     "execution_count": 6,
     "metadata": {},
     "output_type": "execute_result"
    }
   ],
   "source": [
    "def to_smash(total_candies):\n",
    "    \"\"\"Return the number of leftover candies that must be smashed after distributing\n",
    "    the given number of candies evenly between 3 friends.\n",
    "    \n",
    "    >>> to_smash(91)\n",
    "    1\n",
    "    \"\"\"\n",
    "    if total_candies == 1:\n",
    "         print(\"Splitting\", total_candies, \"candy\")\n",
    "    else:\n",
    "         print(\"Splitting\", total_candies, \"candies\")\n",
    "   \n",
    "    return total_candies % 3\n",
    "\n",
    "to_smash(91)\n",
    "to_smash(1)"
   ]
  },
  {
   "cell_type": "markdown",
   "id": "5f2fe38d",
   "metadata": {
    "papermill": {
     "duration": 0.017191,
     "end_time": "2023-02-15T14:06:42.264476",
     "exception": false,
     "start_time": "2023-02-15T14:06:42.247285",
     "status": "completed"
    },
    "tags": []
   },
   "source": [
    "To get credit for completing this problem, and to see the official answer, run the code cell below."
   ]
  },
  {
   "cell_type": "code",
   "execution_count": 7,
   "id": "8de94a85",
   "metadata": {
    "execution": {
     "iopub.execute_input": "2023-02-15T14:06:42.294412Z",
     "iopub.status.busy": "2023-02-15T14:06:42.293713Z",
     "iopub.status.idle": "2023-02-15T14:06:42.303230Z",
     "shell.execute_reply": "2023-02-15T14:06:42.302270Z"
    },
    "papermill": {
     "duration": 0.025199,
     "end_time": "2023-02-15T14:06:42.305855",
     "exception": false,
     "start_time": "2023-02-15T14:06:42.280656",
     "status": "completed"
    },
    "tags": []
   },
   "outputs": [
    {
     "data": {
      "application/javascript": [
       "parent.postMessage({\"jupyterEvent\": \"custom.exercise_interaction\", \"data\": {\"interactionType\": 3, \"questionType\": 4, \"questionId\": \"2_PluralizationProblem\", \"learnToolsVersion\": \"0.3.4\", \"valueTowardsCompletion\": 0.0, \"failureMessage\": \"\", \"exceptionClass\": \"\", \"trace\": \"\", \"outcomeType\": 4}}, \"*\")"
      ],
      "text/plain": [
       "<IPython.core.display.Javascript object>"
      ]
     },
     "metadata": {},
     "output_type": "display_data"
    },
    {
     "data": {
      "text/markdown": [
       "<span style=\"color:#33cc99\">Solution:</span> A straightforward (and totally fine) solution is to replace the original `print` call with:\n",
       "\n",
       "```python\n",
       "if total_candies == 1:\n",
       "    print(\"Splitting 1 candy\")\n",
       "else:\n",
       "    print(\"Splitting\", total_candies, \"candies\")\n",
       "```\n",
       "\n",
       "Here's a slightly more succinct solution using a conditional expression:\n",
       "\n",
       "```python\n",
       "print(\"Splitting\", total_candies, \"candy\" if total_candies == 1 else \"candies\")\n",
       "```"
      ],
      "text/plain": [
       "Solution: A straightforward (and totally fine) solution is to replace the original `print` call with:\n",
       "\n",
       "```python\n",
       "if total_candies == 1:\n",
       "    print(\"Splitting 1 candy\")\n",
       "else:\n",
       "    print(\"Splitting\", total_candies, \"candies\")\n",
       "```\n",
       "\n",
       "Here's a slightly more succinct solution using a conditional expression:\n",
       "\n",
       "```python\n",
       "print(\"Splitting\", total_candies, \"candy\" if total_candies == 1 else \"candies\")\n",
       "```"
      ]
     },
     "metadata": {},
     "output_type": "display_data"
    }
   ],
   "source": [
    "# Check your answer (Run this code cell to receive credit!)\n",
    "q2.solution()"
   ]
  },
  {
   "cell_type": "markdown",
   "id": "7f1af978",
   "metadata": {
    "papermill": {
     "duration": 0.011261,
     "end_time": "2023-02-15T14:06:42.327937",
     "exception": false,
     "start_time": "2023-02-15T14:06:42.316676",
     "status": "completed"
    },
    "tags": []
   },
   "source": [
    "# 3. <span title=\"A bit spicy\" style=\"color: darkgreen \">🌶️</span>\n",
    "\n",
    "In the tutorial, we talked about deciding whether we're prepared for the weather. I said that I'm safe from today's weather if...\n",
    "- I have an umbrella...\n",
    "- or if the rain isn't too heavy and I have a hood...\n",
    "- otherwise, I'm still fine unless it's raining *and* it's a workday\n",
    "\n",
    "The function below uses our first attempt at turning this logic into a Python expression. I claimed that there was a bug in that code. Can you find it?\n",
    "\n",
    "To prove that `prepared_for_weather` is buggy, come up with a set of inputs where either:\n",
    "- the function returns `False` (but should have returned `True`), or\n",
    "- the function returned `True` (but should have returned `False`).\n",
    "\n",
    "To get credit for completing this question, your code should return a <font color='#33cc33'>Correct</font> result."
   ]
  },
  {
   "cell_type": "code",
   "execution_count": 8,
   "id": "30f5f202",
   "metadata": {
    "execution": {
     "iopub.execute_input": "2023-02-15T14:06:42.352263Z",
     "iopub.status.busy": "2023-02-15T14:06:42.351550Z",
     "iopub.status.idle": "2023-02-15T14:06:42.367593Z",
     "shell.execute_reply": "2023-02-15T14:06:42.366270Z"
    },
    "papermill": {
     "duration": 0.031172,
     "end_time": "2023-02-15T14:06:42.369950",
     "exception": false,
     "start_time": "2023-02-15T14:06:42.338778",
     "status": "completed"
    },
    "tags": []
   },
   "outputs": [
    {
     "name": "stdout",
     "output_type": "stream",
     "text": [
      "False\n"
     ]
    },
    {
     "data": {
      "application/javascript": [
       "parent.postMessage({\"jupyterEvent\": \"custom.exercise_interaction\", \"data\": {\"outcomeType\": 1, \"valueTowardsCompletion\": 0.2, \"interactionType\": 1, \"questionType\": 1, \"questionId\": \"3_WeatherDebug\", \"learnToolsVersion\": \"0.3.4\", \"failureMessage\": \"\", \"exceptionClass\": \"\", \"trace\": \"\"}}, \"*\")"
      ],
      "text/plain": [
       "<IPython.core.display.Javascript object>"
      ]
     },
     "metadata": {},
     "output_type": "display_data"
    },
    {
     "data": {
      "text/markdown": [
       "<span style=\"color:#33cc33\">Correct:</span> \n",
       "\n",
       "One example of a failing test case is:\n",
       "\n",
       "```python\n",
       "have_umbrella = False\n",
       "rain_level = 0.0\n",
       "have_hood = False\n",
       "is_workday = False\n",
       "```\n",
       "\n",
       "Clearly we're prepared for the weather in this case. It's not raining. Not only that, it's not a workday, so we don't even need to leave the house! But our function will return False on these inputs.\n",
       "\n",
       "The key problem is that Python implictly parenthesizes the last part as:\n",
       "\n",
       "```python\n",
       "(not (rain_level > 0)) and is_workday\n",
       "```\n",
       "\n",
       "Whereas what we were trying to express would look more like:\n",
       "\n",
       "```python\n",
       "not (rain_level > 0 and is_workday)\n",
       "```\n"
      ],
      "text/plain": [
       "Correct: \n",
       "\n",
       "One example of a failing test case is:\n",
       "\n",
       "```python\n",
       "have_umbrella = False\n",
       "rain_level = 0.0\n",
       "have_hood = False\n",
       "is_workday = False\n",
       "```\n",
       "\n",
       "Clearly we're prepared for the weather in this case. It's not raining. Not only that, it's not a workday, so we don't even need to leave the house! But our function will return False on these inputs.\n",
       "\n",
       "The key problem is that Python implictly parenthesizes the last part as:\n",
       "\n",
       "```python\n",
       "(not (rain_level > 0)) and is_workday\n",
       "```\n",
       "\n",
       "Whereas what we were trying to express would look more like:\n",
       "\n",
       "```python\n",
       "not (rain_level > 0 and is_workday)\n",
       "```"
      ]
     },
     "metadata": {},
     "output_type": "display_data"
    }
   ],
   "source": [
    "def prepared_for_weather(have_umbrella, rain_level, have_hood, is_workday):\n",
    "    # Don't change this code. Our goal is just to find the bug, not fix it!\n",
    "    return have_umbrella or rain_level < 5 and have_hood or not rain_level > 0 and is_workday\n",
    "\n",
    "# Change the values of these inputs so they represent a case where prepared_for_weather\n",
    "# returns the wrong answer.\n",
    "have_umbrella = False\n",
    "rain_level = 0.0\n",
    "have_hood = False\n",
    "is_workday = False\n",
    "\n",
    "# Check what the function returns given the current values of the variables above\n",
    "actual = prepared_for_weather(have_umbrella, rain_level, have_hood, is_workday)\n",
    "print(actual)\n",
    "\n",
    "# Check your answer\n",
    "q3.check()"
   ]
  },
  {
   "cell_type": "code",
   "execution_count": 9,
   "id": "f2758355",
   "metadata": {
    "execution": {
     "iopub.execute_input": "2023-02-15T14:06:42.396482Z",
     "iopub.status.busy": "2023-02-15T14:06:42.395588Z",
     "iopub.status.idle": "2023-02-15T14:06:42.400685Z",
     "shell.execute_reply": "2023-02-15T14:06:42.399739Z"
    },
    "papermill": {
     "duration": 0.021081,
     "end_time": "2023-02-15T14:06:42.403153",
     "exception": false,
     "start_time": "2023-02-15T14:06:42.382072",
     "status": "completed"
    },
    "tags": []
   },
   "outputs": [],
   "source": [
    "#q3.hint()\n",
    "#q3.solution()"
   ]
  },
  {
   "cell_type": "markdown",
   "id": "ed72232b",
   "metadata": {
    "papermill": {
     "duration": 0.010943,
     "end_time": "2023-02-15T14:06:42.426062",
     "exception": false,
     "start_time": "2023-02-15T14:06:42.415119",
     "status": "completed"
    },
    "tags": []
   },
   "source": [
    "# 4.\n",
    "\n",
    "The function `is_negative` below is implemented correctly - it returns True if the given number is negative and False otherwise.\n",
    "\n",
    "However, it's more verbose than it needs to be. We can actually reduce the number of lines of code in this function by *75%* while keeping the same behaviour. \n",
    "\n",
    "See if you can come up with an equivalent body that uses just **one line** of code, and put it in the function `concise_is_negative`. (HINT: you don't even need Python's ternary syntax)"
   ]
  },
  {
   "cell_type": "code",
   "execution_count": 10,
   "id": "4c88e0d2",
   "metadata": {
    "execution": {
     "iopub.execute_input": "2023-02-15T14:06:42.451227Z",
     "iopub.status.busy": "2023-02-15T14:06:42.450818Z",
     "iopub.status.idle": "2023-02-15T14:06:42.461243Z",
     "shell.execute_reply": "2023-02-15T14:06:42.460136Z"
    },
    "papermill": {
     "duration": 0.025561,
     "end_time": "2023-02-15T14:06:42.463441",
     "exception": false,
     "start_time": "2023-02-15T14:06:42.437880",
     "status": "completed"
    },
    "tags": []
   },
   "outputs": [
    {
     "data": {
      "application/javascript": [
       "parent.postMessage({\"jupyterEvent\": \"custom.exercise_interaction\", \"data\": {\"outcomeType\": 1, \"valueTowardsCompletion\": 0.2, \"interactionType\": 1, \"questionType\": 2, \"questionId\": \"4_ConciseIsNegative\", \"learnToolsVersion\": \"0.3.4\", \"failureMessage\": \"\", \"exceptionClass\": \"\", \"trace\": \"\"}}, \"*\")"
      ],
      "text/plain": [
       "<IPython.core.display.Javascript object>"
      ]
     },
     "metadata": {},
     "output_type": "display_data"
    },
    {
     "data": {
      "text/markdown": [
       "<span style=\"color:#33cc33\">Correct</span>"
      ],
      "text/plain": [
       "Correct"
      ]
     },
     "metadata": {},
     "output_type": "display_data"
    }
   ],
   "source": [
    "def is_negative(number):\n",
    "    if number < 0:\n",
    "        return True\n",
    "    else:\n",
    "        return False\n",
    "\n",
    "def concise_is_negative(number):\n",
    "    return True if number < 0 else False # Your code goes here (try to keep it to one line!)\n",
    "\n",
    "\n",
    "# Check your answer\n",
    "q4.check()"
   ]
  },
  {
   "cell_type": "code",
   "execution_count": 11,
   "id": "1a5bd165",
   "metadata": {
    "execution": {
     "iopub.execute_input": "2023-02-15T14:06:42.489589Z",
     "iopub.status.busy": "2023-02-15T14:06:42.488214Z",
     "iopub.status.idle": "2023-02-15T14:06:42.493477Z",
     "shell.execute_reply": "2023-02-15T14:06:42.492653Z"
    },
    "papermill": {
     "duration": 0.020989,
     "end_time": "2023-02-15T14:06:42.495733",
     "exception": false,
     "start_time": "2023-02-15T14:06:42.474744",
     "status": "completed"
    },
    "tags": []
   },
   "outputs": [],
   "source": [
    "#q4.hint()\n",
    "#q4.solution()"
   ]
  },
  {
   "cell_type": "markdown",
   "id": "94f4c8a6",
   "metadata": {
    "papermill": {
     "duration": 0.011905,
     "end_time": "2023-02-15T14:06:42.521854",
     "exception": false,
     "start_time": "2023-02-15T14:06:42.509949",
     "status": "completed"
    },
    "tags": []
   },
   "source": [
    "# 5a.\n",
    "\n",
    "The boolean variables `ketchup`, `mustard` and `onion` represent whether a customer wants a particular topping on their hot dog. We want to implement a number of boolean functions that correspond to some yes-or-no questions about the customer's order. For example:"
   ]
  },
  {
   "cell_type": "code",
   "execution_count": 12,
   "id": "f17118d2",
   "metadata": {
    "execution": {
     "iopub.execute_input": "2023-02-15T14:06:42.547733Z",
     "iopub.status.busy": "2023-02-15T14:06:42.547338Z",
     "iopub.status.idle": "2023-02-15T14:06:42.552762Z",
     "shell.execute_reply": "2023-02-15T14:06:42.551569Z"
    },
    "papermill": {
     "duration": 0.021495,
     "end_time": "2023-02-15T14:06:42.555400",
     "exception": false,
     "start_time": "2023-02-15T14:06:42.533905",
     "status": "completed"
    },
    "tags": []
   },
   "outputs": [],
   "source": [
    "def onionless(ketchup, mustard, onion):\n",
    "    \"\"\"Return whether the customer doesn't want onions.\n",
    "    \"\"\"\n",
    "    return not onion"
   ]
  },
  {
   "cell_type": "code",
   "execution_count": 13,
   "id": "ad756543",
   "metadata": {
    "execution": {
     "iopub.execute_input": "2023-02-15T14:06:42.580809Z",
     "iopub.status.busy": "2023-02-15T14:06:42.580125Z",
     "iopub.status.idle": "2023-02-15T14:06:42.590105Z",
     "shell.execute_reply": "2023-02-15T14:06:42.588936Z"
    },
    "papermill": {
     "duration": 0.024988,
     "end_time": "2023-02-15T14:06:42.592297",
     "exception": false,
     "start_time": "2023-02-15T14:06:42.567309",
     "status": "completed"
    },
    "tags": []
   },
   "outputs": [
    {
     "data": {
      "application/javascript": [
       "parent.postMessage({\"jupyterEvent\": \"custom.exercise_interaction\", \"data\": {\"outcomeType\": 1, \"valueTowardsCompletion\": 0.2, \"interactionType\": 1, \"questionType\": 2, \"questionId\": \"5.1_AllToppings\", \"learnToolsVersion\": \"0.3.4\", \"failureMessage\": \"\", \"exceptionClass\": \"\", \"trace\": \"\"}}, \"*\")"
      ],
      "text/plain": [
       "<IPython.core.display.Javascript object>"
      ]
     },
     "metadata": {},
     "output_type": "display_data"
    },
    {
     "data": {
      "text/markdown": [
       "<span style=\"color:#33cc33\">Correct</span>"
      ],
      "text/plain": [
       "Correct"
      ]
     },
     "metadata": {},
     "output_type": "display_data"
    }
   ],
   "source": [
    "def wants_all_toppings(ketchup, mustard, onion):\n",
    "    \"\"\"Return whether the customer wants \"the works\" (all 3 toppings)\n",
    "    \"\"\"\n",
    "    return ketchup and mustard and onion\n",
    "\n",
    "# Check your answer\n",
    "q5.a.check()"
   ]
  },
  {
   "cell_type": "code",
   "execution_count": 14,
   "id": "51d650ea",
   "metadata": {
    "execution": {
     "iopub.execute_input": "2023-02-15T14:06:42.618436Z",
     "iopub.status.busy": "2023-02-15T14:06:42.617774Z",
     "iopub.status.idle": "2023-02-15T14:06:42.622069Z",
     "shell.execute_reply": "2023-02-15T14:06:42.621281Z"
    },
    "papermill": {
     "duration": 0.019562,
     "end_time": "2023-02-15T14:06:42.624266",
     "exception": false,
     "start_time": "2023-02-15T14:06:42.604704",
     "status": "completed"
    },
    "tags": []
   },
   "outputs": [],
   "source": [
    "#q5.a.hint()\n",
    "#q5.a.solution()"
   ]
  },
  {
   "cell_type": "markdown",
   "id": "c899b4c0",
   "metadata": {
    "papermill": {
     "duration": 0.011792,
     "end_time": "2023-02-15T14:06:42.647769",
     "exception": false,
     "start_time": "2023-02-15T14:06:42.635977",
     "status": "completed"
    },
    "tags": []
   },
   "source": [
    "# 5b.\n",
    "\n",
    "For the next function, fill in the body to match the English description in the docstring. "
   ]
  },
  {
   "cell_type": "code",
   "execution_count": 15,
   "id": "a65bc0d2",
   "metadata": {
    "execution": {
     "iopub.execute_input": "2023-02-15T14:06:42.674027Z",
     "iopub.status.busy": "2023-02-15T14:06:42.673227Z",
     "iopub.status.idle": "2023-02-15T14:06:42.683342Z",
     "shell.execute_reply": "2023-02-15T14:06:42.682407Z"
    },
    "papermill": {
     "duration": 0.026178,
     "end_time": "2023-02-15T14:06:42.685726",
     "exception": false,
     "start_time": "2023-02-15T14:06:42.659548",
     "status": "completed"
    },
    "tags": []
   },
   "outputs": [
    {
     "data": {
      "application/javascript": [
       "parent.postMessage({\"jupyterEvent\": \"custom.exercise_interaction\", \"data\": {\"outcomeType\": 1, \"valueTowardsCompletion\": 0.2, \"interactionType\": 1, \"questionType\": 2, \"questionId\": \"5.2_PlainDog\", \"learnToolsVersion\": \"0.3.4\", \"failureMessage\": \"\", \"exceptionClass\": \"\", \"trace\": \"\"}}, \"*\")"
      ],
      "text/plain": [
       "<IPython.core.display.Javascript object>"
      ]
     },
     "metadata": {},
     "output_type": "display_data"
    },
    {
     "data": {
      "text/markdown": [
       "<span style=\"color:#33cc33\">Correct:</span> \n",
       "\n",
       "One solution looks like:\n",
       "```python\n",
       "return not ketchup and not mustard and not onion\n",
       "```\n",
       "\n",
       "We can also [\"factor out\" the nots](https://en.wikipedia.org/wiki/De_Morgan%27s_laws) to get:\n",
       "\n",
       "```python\n",
       "return not (ketchup or mustard or onion)\n",
       "```"
      ],
      "text/plain": [
       "Correct: \n",
       "\n",
       "One solution looks like:\n",
       "```python\n",
       "return not ketchup and not mustard and not onion\n",
       "```\n",
       "\n",
       "We can also [\"factor out\" the nots](https://en.wikipedia.org/wiki/De_Morgan%27s_laws) to get:\n",
       "\n",
       "```python\n",
       "return not (ketchup or mustard or onion)\n",
       "```"
      ]
     },
     "metadata": {},
     "output_type": "display_data"
    }
   ],
   "source": [
    "def wants_plain_hotdog(ketchup, mustard, onion):\n",
    "    \"\"\"Return whether the customer wants a plain hot dog with no toppings.\n",
    "    \"\"\"\n",
    "    return not (ketchup or mustard or onion)\n",
    "\n",
    "# Check your answer\n",
    "q5.b.check()"
   ]
  },
  {
   "cell_type": "code",
   "execution_count": 16,
   "id": "3e2274f6",
   "metadata": {
    "execution": {
     "iopub.execute_input": "2023-02-15T14:06:42.712384Z",
     "iopub.status.busy": "2023-02-15T14:06:42.711598Z",
     "iopub.status.idle": "2023-02-15T14:06:42.716297Z",
     "shell.execute_reply": "2023-02-15T14:06:42.715394Z"
    },
    "papermill": {
     "duration": 0.021033,
     "end_time": "2023-02-15T14:06:42.718751",
     "exception": false,
     "start_time": "2023-02-15T14:06:42.697718",
     "status": "completed"
    },
    "tags": []
   },
   "outputs": [],
   "source": [
    "#q5.b.hint()\n",
    "#q5.b.solution()"
   ]
  },
  {
   "cell_type": "markdown",
   "id": "81f23d58",
   "metadata": {
    "papermill": {
     "duration": 0.011889,
     "end_time": "2023-02-15T14:06:42.743123",
     "exception": false,
     "start_time": "2023-02-15T14:06:42.731234",
     "status": "completed"
    },
    "tags": []
   },
   "source": [
    "# 5c.\n",
    "\n",
    "You know what to do: for the next function, fill in the body to match the English description in the docstring."
   ]
  },
  {
   "cell_type": "code",
   "execution_count": 17,
   "id": "f8f9424e",
   "metadata": {
    "execution": {
     "iopub.execute_input": "2023-02-15T14:06:42.773147Z",
     "iopub.status.busy": "2023-02-15T14:06:42.772349Z",
     "iopub.status.idle": "2023-02-15T14:06:42.782851Z",
     "shell.execute_reply": "2023-02-15T14:06:42.781567Z"
    },
    "papermill": {
     "duration": 0.03043,
     "end_time": "2023-02-15T14:06:42.786232",
     "exception": false,
     "start_time": "2023-02-15T14:06:42.755802",
     "status": "completed"
    },
    "tags": []
   },
   "outputs": [
    {
     "data": {
      "application/javascript": [
       "parent.postMessage({\"jupyterEvent\": \"custom.exercise_interaction\", \"data\": {\"outcomeType\": 1, \"valueTowardsCompletion\": 0.2, \"interactionType\": 1, \"questionType\": 2, \"questionId\": \"5.3_OneSauce\", \"learnToolsVersion\": \"0.3.4\", \"failureMessage\": \"\", \"exceptionClass\": \"\", \"trace\": \"\"}}, \"*\")"
      ],
      "text/plain": [
       "<IPython.core.display.Javascript object>"
      ]
     },
     "metadata": {},
     "output_type": "display_data"
    },
    {
     "data": {
      "text/markdown": [
       "<span style=\"color:#33cc33\">Correct</span>"
      ],
      "text/plain": [
       "Correct"
      ]
     },
     "metadata": {},
     "output_type": "display_data"
    }
   ],
   "source": [
    "def exactly_one_sauce(ketchup, mustard, onion):\n",
    "    \"\"\"Return whether the customer wants either ketchup or mustard, but not both.\n",
    "    (You may be familiar with this operation under the name \"exclusive or\")\n",
    "    \"\"\"\n",
    "    return ketchup ^ mustard\n",
    "\n",
    "# Check your answer\n",
    "q5.c.check()"
   ]
  },
  {
   "cell_type": "code",
   "execution_count": 18,
   "id": "4b491310",
   "metadata": {
    "execution": {
     "iopub.execute_input": "2023-02-15T14:06:42.814281Z",
     "iopub.status.busy": "2023-02-15T14:06:42.813837Z",
     "iopub.status.idle": "2023-02-15T14:06:42.819059Z",
     "shell.execute_reply": "2023-02-15T14:06:42.817411Z"
    },
    "papermill": {
     "duration": 0.022725,
     "end_time": "2023-02-15T14:06:42.822126",
     "exception": false,
     "start_time": "2023-02-15T14:06:42.799401",
     "status": "completed"
    },
    "tags": []
   },
   "outputs": [],
   "source": [
    "#q5.c.hint()\n",
    "#q5.c.solution()"
   ]
  },
  {
   "cell_type": "markdown",
   "id": "753e82b0",
   "metadata": {
    "papermill": {
     "duration": 0.015473,
     "end_time": "2023-02-15T14:06:42.855417",
     "exception": false,
     "start_time": "2023-02-15T14:06:42.839944",
     "status": "completed"
    },
    "tags": []
   },
   "source": [
    "# 6. <span title=\"A bit spicy\" style=\"color: darkgreen \">🌶️</span>\n",
    "\n",
    "We’ve seen that calling `bool()` on an integer returns `False` if it’s equal to 0 and `True` otherwise. What happens if we call `int()` on a bool? Try it out in the notebook cell below.\n",
    "\n",
    "Can you take advantage of this to write a succinct function that corresponds to the English sentence \"does the customer want exactly one topping?\"?"
   ]
  },
  {
   "cell_type": "code",
   "execution_count": 19,
   "id": "addd2b9f",
   "metadata": {
    "execution": {
     "iopub.execute_input": "2023-02-15T14:06:42.888406Z",
     "iopub.status.busy": "2023-02-15T14:06:42.887961Z",
     "iopub.status.idle": "2023-02-15T14:06:42.894968Z",
     "shell.execute_reply": "2023-02-15T14:06:42.893760Z"
    },
    "papermill": {
     "duration": 0.027399,
     "end_time": "2023-02-15T14:06:42.897779",
     "exception": false,
     "start_time": "2023-02-15T14:06:42.870380",
     "status": "completed"
    },
    "tags": []
   },
   "outputs": [
    {
     "data": {
      "text/plain": [
       "1"
      ]
     },
     "execution_count": 19,
     "metadata": {},
     "output_type": "execute_result"
    }
   ],
   "source": [
    "int(False)\n",
    "int(True)"
   ]
  },
  {
   "cell_type": "code",
   "execution_count": 20,
   "id": "9aca1dd6",
   "metadata": {
    "execution": {
     "iopub.execute_input": "2023-02-15T14:06:42.925607Z",
     "iopub.status.busy": "2023-02-15T14:06:42.925208Z",
     "iopub.status.idle": "2023-02-15T14:06:42.935383Z",
     "shell.execute_reply": "2023-02-15T14:06:42.934251Z"
    },
    "papermill": {
     "duration": 0.027106,
     "end_time": "2023-02-15T14:06:42.937860",
     "exception": false,
     "start_time": "2023-02-15T14:06:42.910754",
     "status": "completed"
    },
    "tags": []
   },
   "outputs": [
    {
     "data": {
      "application/javascript": [
       "parent.postMessage({\"jupyterEvent\": \"custom.exercise_interaction\", \"data\": {\"outcomeType\": 1, \"valueTowardsCompletion\": 0.2, \"interactionType\": 1, \"questionType\": 2, \"questionId\": \"6_OneTopping\", \"learnToolsVersion\": \"0.3.4\", \"failureMessage\": \"\", \"exceptionClass\": \"\", \"trace\": \"\"}}, \"*\")"
      ],
      "text/plain": [
       "<IPython.core.display.Javascript object>"
      ]
     },
     "metadata": {},
     "output_type": "display_data"
    },
    {
     "data": {
      "text/markdown": [
       "<span style=\"color:#33cc33\">Correct:</span> \n",
       "\n",
       "This condition would be pretty complicated to express using just `and`, `or` and `not`, but using boolean-to-integer conversion gives us this short solution:\n",
       "```python\n",
       "return (int(ketchup) + int(mustard) + int(onion)) == 1\n",
       "```\n",
       "\n",
       "Fun fact: we don't technically need to call `int` on the arguments. Just by doing addition with booleans, Python implicitly does the integer conversion. So we could also write...\n",
       "\n",
       "```python\n",
       "return (ketchup + mustard + onion) == 1\n",
       "```"
      ],
      "text/plain": [
       "Correct: \n",
       "\n",
       "This condition would be pretty complicated to express using just `and`, `or` and `not`, but using boolean-to-integer conversion gives us this short solution:\n",
       "```python\n",
       "return (int(ketchup) + int(mustard) + int(onion)) == 1\n",
       "```\n",
       "\n",
       "Fun fact: we don't technically need to call `int` on the arguments. Just by doing addition with booleans, Python implicitly does the integer conversion. So we could also write...\n",
       "\n",
       "```python\n",
       "return (ketchup + mustard + onion) == 1\n",
       "```"
      ]
     },
     "metadata": {},
     "output_type": "display_data"
    }
   ],
   "source": [
    "def exactly_one_topping(ketchup, mustard, onion):\n",
    "    \"\"\"Return whether the customer wants exactly one of the three available toppings\n",
    "    on their hot dog.\n",
    "    \"\"\"\n",
    "    return (int(ketchup) + int(mustard) + int(onion)) == 1\n",
    "\n",
    "# Check your answer\n",
    "q6.check()"
   ]
  },
  {
   "cell_type": "code",
   "execution_count": 21,
   "id": "8db3ed54",
   "metadata": {
    "execution": {
     "iopub.execute_input": "2023-02-15T14:06:42.964863Z",
     "iopub.status.busy": "2023-02-15T14:06:42.964448Z",
     "iopub.status.idle": "2023-02-15T14:06:42.969496Z",
     "shell.execute_reply": "2023-02-15T14:06:42.968252Z"
    },
    "papermill": {
     "duration": 0.021226,
     "end_time": "2023-02-15T14:06:42.971865",
     "exception": false,
     "start_time": "2023-02-15T14:06:42.950639",
     "status": "completed"
    },
    "tags": []
   },
   "outputs": [],
   "source": [
    "#q6.hint()\n",
    "#q6.solution()"
   ]
  },
  {
   "cell_type": "markdown",
   "id": "e604ffd4",
   "metadata": {
    "papermill": {
     "duration": 0.012315,
     "end_time": "2023-02-15T14:06:42.998050",
     "exception": false,
     "start_time": "2023-02-15T14:06:42.985735",
     "status": "completed"
    },
    "tags": []
   },
   "source": [
    "# 7. <span title=\"A bit spicy\" style=\"color: darkgreen \">🌶️</span> (Optional)\n",
    "\n",
    "In this problem we'll be working with a simplified version of [blackjack](https://en.wikipedia.org/wiki/Blackjack) (aka twenty-one). In this version there is one player (who you'll control) and a dealer. Play proceeds as follows:\n",
    "\n",
    "- The player is dealt two face-up cards. The dealer is dealt one face-up card.\n",
    "- The player may ask to be dealt another card ('hit') as many times as they wish. If the sum of their cards exceeds 21, they lose the round immediately.\n",
    "- The dealer then deals additional cards to himself until either:\n",
    "    - the sum of the dealer's cards exceeds 21, in which case the player wins the round\n",
    "    - the sum of the dealer's cards is greater than or equal to 17. If the player's total is greater than the dealer's, the player wins. Otherwise, the dealer wins (even in case of a tie).\n",
    "    \n",
    "When calculating the sum of cards, Jack, Queen, and King count for 10. Aces can count as 1 or 11 (when referring to a player's \"total\" above, we mean the largest total that can be made without exceeding 21. So e.g. A+8 = 19, A+8+8 = 17)\n",
    "\n",
    "For this problem, you'll write a function representing the player's decision-making strategy in this game. We've provided a very unintelligent implementation below:"
   ]
  },
  {
   "cell_type": "code",
   "execution_count": 22,
   "id": "657bd25c",
   "metadata": {
    "execution": {
     "iopub.execute_input": "2023-02-15T14:06:43.025930Z",
     "iopub.status.busy": "2023-02-15T14:06:43.025522Z",
     "iopub.status.idle": "2023-02-15T14:06:43.031856Z",
     "shell.execute_reply": "2023-02-15T14:06:43.030361Z"
    },
    "papermill": {
     "duration": 0.023738,
     "end_time": "2023-02-15T14:06:43.034737",
     "exception": false,
     "start_time": "2023-02-15T14:06:43.010999",
     "status": "completed"
    },
    "tags": []
   },
   "outputs": [],
   "source": [
    "def should_hit(dealer_total, player_total, player_low_aces, player_high_aces):\n",
    "    \"\"\"Return True if the player should hit (request another card) given the current game\n",
    "    state, or False if the player should stay.\n",
    "    When calculating a hand's total value, we count aces as \"high\" (with value 11) if doing so\n",
    "    doesn't bring the total above 21, otherwise we count them as low (with value 1). \n",
    "    For example, if the player's hand is {A, A, A, 7}, we will count it as 11 + 1 + 1 + 7,\n",
    "    and therefore set player_total=20, player_low_aces=2, player_high_aces=1.\n",
    "    \"\"\"\n",
    "        \n",
    "    return player_total < 17 "
   ]
  },
  {
   "cell_type": "markdown",
   "id": "d36a7cb6",
   "metadata": {
    "papermill": {
     "duration": 0.012183,
     "end_time": "2023-02-15T14:06:43.059917",
     "exception": false,
     "start_time": "2023-02-15T14:06:43.047734",
     "status": "completed"
    },
    "tags": []
   },
   "source": [
    "This very conservative agent *always* sticks with the hand of two cards that they're dealt.\n",
    "\n",
    "We'll be simulating games between your player agent and our own dealer agent by calling your function.\n",
    "\n",
    "Try running the function below to see an example of a simulated game:"
   ]
  },
  {
   "cell_type": "code",
   "execution_count": 23,
   "id": "cb662357",
   "metadata": {
    "execution": {
     "iopub.execute_input": "2023-02-15T14:06:43.086791Z",
     "iopub.status.busy": "2023-02-15T14:06:43.086392Z",
     "iopub.status.idle": "2023-02-15T14:06:43.092799Z",
     "shell.execute_reply": "2023-02-15T14:06:43.091453Z"
    },
    "papermill": {
     "duration": 0.022831,
     "end_time": "2023-02-15T14:06:43.095410",
     "exception": false,
     "start_time": "2023-02-15T14:06:43.072579",
     "status": "completed"
    },
    "tags": []
   },
   "outputs": [
    {
     "name": "stdout",
     "output_type": "stream",
     "text": [
      "Player starts with 7 and 10 (total = 17)\n",
      "Dealer starts with 2\n",
      "\n",
      "__Player's turn__\n",
      "Player stays\n",
      "\n",
      "__Dealer's turn__\n",
      "Dealer hits and receives 2. (total = 4)\n",
      "Dealer hits and receives 3. (total = 7)\n",
      "Dealer hits and receives 7. (total = 14)\n",
      "Dealer hits and receives A. (total = 15)\n",
      "Dealer hits and receives J. (total = 25)\n",
      "Dealer busts! Player wins.\n"
     ]
    }
   ],
   "source": [
    "q7.simulate_one_game()"
   ]
  },
  {
   "cell_type": "markdown",
   "id": "e084d8c0",
   "metadata": {
    "papermill": {
     "duration": 0.012864,
     "end_time": "2023-02-15T14:06:43.121705",
     "exception": false,
     "start_time": "2023-02-15T14:06:43.108841",
     "status": "completed"
    },
    "tags": []
   },
   "source": [
    "The real test of your agent's mettle is their average win rate over many games. Try calling the function below to simulate 50000 games of blackjack (it may take a couple seconds):"
   ]
  },
  {
   "cell_type": "code",
   "execution_count": 24,
   "id": "d8b84c1a",
   "metadata": {
    "execution": {
     "iopub.execute_input": "2023-02-15T14:06:43.149790Z",
     "iopub.status.busy": "2023-02-15T14:06:43.149367Z",
     "iopub.status.idle": "2023-02-15T14:06:44.986753Z",
     "shell.execute_reply": "2023-02-15T14:06:44.985244Z"
    },
    "papermill": {
     "duration": 1.854337,
     "end_time": "2023-02-15T14:06:44.989503",
     "exception": false,
     "start_time": "2023-02-15T14:06:43.135166",
     "status": "completed"
    },
    "tags": []
   },
   "outputs": [
    {
     "name": "stdout",
     "output_type": "stream",
     "text": [
      "Player won 20290 out of 50000 games (win rate = 40.6%)\n"
     ]
    }
   ],
   "source": [
    "q7.simulate(n_games=50000)"
   ]
  },
  {
   "cell_type": "markdown",
   "id": "40d6badd",
   "metadata": {
    "papermill": {
     "duration": 0.013836,
     "end_time": "2023-02-15T14:06:45.016371",
     "exception": false,
     "start_time": "2023-02-15T14:06:45.002535",
     "status": "completed"
    },
    "tags": []
   },
   "source": [
    "Our dumb agent that completely ignores the game state still manages to win shockingly often!\n",
    "\n",
    "Try adding some more smarts to the `should_hit` function and see how it affects the results."
   ]
  },
  {
   "cell_type": "code",
   "execution_count": 25,
   "id": "b9afbd4b",
   "metadata": {
    "execution": {
     "iopub.execute_input": "2023-02-15T14:06:45.046370Z",
     "iopub.status.busy": "2023-02-15T14:06:45.045796Z",
     "iopub.status.idle": "2023-02-15T14:06:46.873601Z",
     "shell.execute_reply": "2023-02-15T14:06:46.872196Z"
    },
    "papermill": {
     "duration": 1.846094,
     "end_time": "2023-02-15T14:06:46.876442",
     "exception": false,
     "start_time": "2023-02-15T14:06:45.030348",
     "status": "completed"
    },
    "tags": []
   },
   "outputs": [
    {
     "name": "stdout",
     "output_type": "stream",
     "text": [
      "Player won 20263 out of 50000 games (win rate = 40.5%)\n"
     ]
    }
   ],
   "source": [
    "def should_hit(dealer_total, player_total, player_low_aces, player_high_aces):\n",
    "    \"\"\"Return True if the player should hit (request another card) given the current game\n",
    "    state, or False if the player should stay.\n",
    "    When calculating a hand's total value, we count aces as \"high\" (with value 11) if doing so\n",
    "    doesn't bring the total above 21, otherwise we count them as low (with value 1). \n",
    "    For example, if the player's hand is {A, A, A, 7}, we will count it as 11 + 1 + 1 + 7,\n",
    "    and therefore set player_total=20, player_low_aces=2, player_high_aces=1.\n",
    "    \"\"\"\n",
    "        # print(player_total)\n",
    "    if player_total >= 17 and dealer_total > player_total:\n",
    "        return True\n",
    "    return player_total < 17\n",
    "\n",
    "q7.simulate(n_games=50000)"
   ]
  },
  {
   "cell_type": "markdown",
   "id": "58327d85",
   "metadata": {
    "papermill": {
     "duration": 0.012377,
     "end_time": "2023-02-15T14:06:46.902050",
     "exception": false,
     "start_time": "2023-02-15T14:06:46.889673",
     "status": "completed"
    },
    "tags": []
   },
   "source": [
    "# Keep Going\n",
    "\n",
    "Learn about **[lists and tuples](https://www.kaggle.com/colinmorris/lists)** to handle multiple items of data in a systematic way."
   ]
  },
  {
   "cell_type": "markdown",
   "id": "24f663da",
   "metadata": {
    "papermill": {
     "duration": 0.012433,
     "end_time": "2023-02-15T14:06:46.927169",
     "exception": false,
     "start_time": "2023-02-15T14:06:46.914736",
     "status": "completed"
    },
    "tags": []
   },
   "source": [
    "---\n",
    "\n",
    "\n",
    "\n",
    "\n",
    "*Have questions or comments? Visit the [course discussion forum](https://www.kaggle.com/learn/python/discussion) to chat with other learners.*"
   ]
  }
 ],
 "metadata": {
  "kernelspec": {
   "display_name": "Python 3",
   "language": "python",
   "name": "python3"
  },
  "language_info": {
   "codemirror_mode": {
    "name": "ipython",
    "version": 3
   },
   "file_extension": ".py",
   "mimetype": "text/x-python",
   "name": "python",
   "nbconvert_exporter": "python",
   "pygments_lexer": "ipython3",
   "version": "3.7.12"
  },
  "papermill": {
   "default_parameters": {},
   "duration": 14.86682,
   "end_time": "2023-02-15T14:06:47.663453",
   "environment_variables": {},
   "exception": null,
   "input_path": "__notebook__.ipynb",
   "output_path": "__notebook__.ipynb",
   "parameters": {},
   "start_time": "2023-02-15T14:06:32.796633",
   "version": "2.3.4"
  }
 },
 "nbformat": 4,
 "nbformat_minor": 5
}
