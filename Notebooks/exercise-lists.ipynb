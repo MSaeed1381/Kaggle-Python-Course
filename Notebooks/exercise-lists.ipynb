{
 "cells": [
  {
   "cell_type": "markdown",
   "id": "bd22db29",
   "metadata": {
    "papermill": {
     "duration": 0.008761,
     "end_time": "2023-02-15T20:37:27.351538",
     "exception": false,
     "start_time": "2023-02-15T20:37:27.342777",
     "status": "completed"
    },
    "tags": []
   },
   "source": [
    "**This notebook is an exercise in the [Python](https://www.kaggle.com/learn/python) course.  You can reference the tutorial at [this link](https://www.kaggle.com/colinmorris/lists).**\n",
    "\n",
    "---\n"
   ]
  },
  {
   "cell_type": "markdown",
   "id": "02c480dc",
   "metadata": {
    "papermill": {
     "duration": 0.004533,
     "end_time": "2023-02-15T20:37:27.361144",
     "exception": false,
     "start_time": "2023-02-15T20:37:27.356611",
     "status": "completed"
    },
    "tags": []
   },
   "source": [
    "Things get more interesting with lists. You'll apply your new knowledge to solve the questions below. Remember to run the following cell first."
   ]
  },
  {
   "cell_type": "code",
   "execution_count": 1,
   "id": "c25bd020",
   "metadata": {
    "execution": {
     "iopub.execute_input": "2023-02-15T20:37:27.372831Z",
     "iopub.status.busy": "2023-02-15T20:37:27.372084Z",
     "iopub.status.idle": "2023-02-15T20:37:27.419066Z",
     "shell.execute_reply": "2023-02-15T20:37:27.417896Z"
    },
    "papermill": {
     "duration": 0.057303,
     "end_time": "2023-02-15T20:37:27.423149",
     "exception": false,
     "start_time": "2023-02-15T20:37:27.365846",
     "status": "completed"
    },
    "tags": []
   },
   "outputs": [
    {
     "name": "stdout",
     "output_type": "stream",
     "text": [
      "Setup complete.\n"
     ]
    }
   ],
   "source": [
    "from learntools.core import binder; binder.bind(globals())\n",
    "from learntools.python.ex4 import *\n",
    "print('Setup complete.')"
   ]
  },
  {
   "cell_type": "markdown",
   "id": "1fc1bd94",
   "metadata": {
    "papermill": {
     "duration": 0.00482,
     "end_time": "2023-02-15T20:37:27.433969",
     "exception": false,
     "start_time": "2023-02-15T20:37:27.429149",
     "status": "completed"
    },
    "tags": []
   },
   "source": [
    "# 1.\n",
    "\n",
    "Complete the function below according to its docstring."
   ]
  },
  {
   "cell_type": "code",
   "execution_count": 2,
   "id": "92e2af9c",
   "metadata": {
    "execution": {
     "iopub.execute_input": "2023-02-15T20:37:27.446240Z",
     "iopub.status.busy": "2023-02-15T20:37:27.445230Z",
     "iopub.status.idle": "2023-02-15T20:37:27.458420Z",
     "shell.execute_reply": "2023-02-15T20:37:27.457209Z"
    },
    "papermill": {
     "duration": 0.021596,
     "end_time": "2023-02-15T20:37:27.460541",
     "exception": false,
     "start_time": "2023-02-15T20:37:27.438945",
     "status": "completed"
    },
    "tags": []
   },
   "outputs": [
    {
     "data": {
      "application/javascript": [
       "parent.postMessage({\"jupyterEvent\": \"custom.exercise_interaction\", \"data\": {\"outcomeType\": 1, \"valueTowardsCompletion\": 0.2, \"interactionType\": 1, \"questionType\": 2, \"questionId\": \"1_SelectSecondItem\", \"learnToolsVersion\": \"0.3.4\", \"failureMessage\": \"\", \"exceptionClass\": \"\", \"trace\": \"\"}}, \"*\")"
      ],
      "text/plain": [
       "<IPython.core.display.Javascript object>"
      ]
     },
     "metadata": {},
     "output_type": "display_data"
    },
    {
     "data": {
      "text/markdown": [
       "<span style=\"color:#33cc33\">Correct</span>"
      ],
      "text/plain": [
       "Correct"
      ]
     },
     "metadata": {},
     "output_type": "display_data"
    }
   ],
   "source": [
    "def select_second(L):\n",
    "    \"\"\"Return the second element of the given list. If the list has no second\n",
    "    element, return None.\n",
    "    \"\"\"\n",
    "    if len(L) >= 2:\n",
    "        return L[1]\n",
    "    return None\n",
    "\n",
    "# Check your answer\n",
    "q1.check()"
   ]
  },
  {
   "cell_type": "code",
   "execution_count": 3,
   "id": "63a59b75",
   "metadata": {
    "execution": {
     "iopub.execute_input": "2023-02-15T20:37:27.473430Z",
     "iopub.status.busy": "2023-02-15T20:37:27.472187Z",
     "iopub.status.idle": "2023-02-15T20:37:27.477144Z",
     "shell.execute_reply": "2023-02-15T20:37:27.475930Z"
    },
    "papermill": {
     "duration": 0.013915,
     "end_time": "2023-02-15T20:37:27.479690",
     "exception": false,
     "start_time": "2023-02-15T20:37:27.465775",
     "status": "completed"
    },
    "tags": []
   },
   "outputs": [],
   "source": [
    "#q1.hint()\n",
    "#q1.solution()"
   ]
  },
  {
   "cell_type": "markdown",
   "id": "67594e47",
   "metadata": {
    "papermill": {
     "duration": 0.004964,
     "end_time": "2023-02-15T20:37:27.489984",
     "exception": false,
     "start_time": "2023-02-15T20:37:27.485020",
     "status": "completed"
    },
    "tags": []
   },
   "source": [
    "# 2.\n",
    "\n",
    "You are analyzing sports teams.  Members of each team are stored in a list. The Coach is the first name in the list, the captain is the second name in the list, and other players are listed after that. \n",
    "These lists are stored in another list, which starts with the best team and proceeds through the list to the worst team last.  Complete the function below to select the **captain** of the worst team."
   ]
  },
  {
   "cell_type": "code",
   "execution_count": 4,
   "id": "88f84bff",
   "metadata": {
    "execution": {
     "iopub.execute_input": "2023-02-15T20:37:27.502300Z",
     "iopub.status.busy": "2023-02-15T20:37:27.501860Z",
     "iopub.status.idle": "2023-02-15T20:37:27.512601Z",
     "shell.execute_reply": "2023-02-15T20:37:27.511314Z"
    },
    "papermill": {
     "duration": 0.019736,
     "end_time": "2023-02-15T20:37:27.515052",
     "exception": false,
     "start_time": "2023-02-15T20:37:27.495316",
     "status": "completed"
    },
    "tags": []
   },
   "outputs": [
    {
     "data": {
      "application/javascript": [
       "parent.postMessage({\"jupyterEvent\": \"custom.exercise_interaction\", \"data\": {\"outcomeType\": 1, \"valueTowardsCompletion\": 0.2, \"interactionType\": 1, \"questionType\": 2, \"questionId\": \"2_LosingTeamCaptain\", \"learnToolsVersion\": \"0.3.4\", \"failureMessage\": \"\", \"exceptionClass\": \"\", \"trace\": \"\"}}, \"*\")"
      ],
      "text/plain": [
       "<IPython.core.display.Javascript object>"
      ]
     },
     "metadata": {},
     "output_type": "display_data"
    },
    {
     "data": {
      "text/markdown": [
       "<span style=\"color:#33cc33\">Correct</span>"
      ],
      "text/plain": [
       "Correct"
      ]
     },
     "metadata": {},
     "output_type": "display_data"
    }
   ],
   "source": [
    "def losing_team_captain(teams):\n",
    "    \"\"\"Given a list of teams, where each team is a list of names, return the 2nd player (captain)\n",
    "    from the last listed team\n",
    "    \"\"\"\n",
    "    return teams[::-1][0][1]\n",
    "\n",
    "# Check your answer\n",
    "q2.check()"
   ]
  },
  {
   "cell_type": "code",
   "execution_count": 5,
   "id": "6e27dfdf",
   "metadata": {
    "execution": {
     "iopub.execute_input": "2023-02-15T20:37:27.531378Z",
     "iopub.status.busy": "2023-02-15T20:37:27.530001Z",
     "iopub.status.idle": "2023-02-15T20:37:27.536312Z",
     "shell.execute_reply": "2023-02-15T20:37:27.534417Z"
    },
    "papermill": {
     "duration": 0.01867,
     "end_time": "2023-02-15T20:37:27.539416",
     "exception": false,
     "start_time": "2023-02-15T20:37:27.520746",
     "status": "completed"
    },
    "tags": []
   },
   "outputs": [],
   "source": [
    "#q2.hint()\n",
    "#q2.solution()"
   ]
  },
  {
   "cell_type": "markdown",
   "id": "4b020cd0",
   "metadata": {
    "papermill": {
     "duration": 0.007642,
     "end_time": "2023-02-15T20:37:27.553803",
     "exception": false,
     "start_time": "2023-02-15T20:37:27.546161",
     "status": "completed"
    },
    "tags": []
   },
   "source": [
    "# 3.\n",
    "\n",
    "The next iteration of Mario Kart will feature an extra-infuriating new item, the *Purple Shell*. When used, it warps the last place racer into first place and the first place racer into last place. Complete the function below to implement the Purple Shell's effect."
   ]
  },
  {
   "cell_type": "code",
   "execution_count": 6,
   "id": "bfe17357",
   "metadata": {
    "execution": {
     "iopub.execute_input": "2023-02-15T20:37:27.571120Z",
     "iopub.status.busy": "2023-02-15T20:37:27.570461Z",
     "iopub.status.idle": "2023-02-15T20:37:27.580311Z",
     "shell.execute_reply": "2023-02-15T20:37:27.579511Z"
    },
    "papermill": {
     "duration": 0.020543,
     "end_time": "2023-02-15T20:37:27.583149",
     "exception": false,
     "start_time": "2023-02-15T20:37:27.562606",
     "status": "completed"
    },
    "tags": []
   },
   "outputs": [
    {
     "data": {
      "application/javascript": [
       "parent.postMessage({\"jupyterEvent\": \"custom.exercise_interaction\", \"data\": {\"outcomeType\": 1, \"valueTowardsCompletion\": 0.2, \"interactionType\": 1, \"questionType\": 2, \"questionId\": \"3_PurpleShell\", \"learnToolsVersion\": \"0.3.4\", \"failureMessage\": \"\", \"exceptionClass\": \"\", \"trace\": \"\"}}, \"*\")"
      ],
      "text/plain": [
       "<IPython.core.display.Javascript object>"
      ]
     },
     "metadata": {},
     "output_type": "display_data"
    },
    {
     "data": {
      "text/markdown": [
       "<span style=\"color:#33cc33\">Correct</span>"
      ],
      "text/plain": [
       "Correct"
      ]
     },
     "metadata": {},
     "output_type": "display_data"
    }
   ],
   "source": [
    "def purple_shell(racers):\n",
    "    \"\"\"Given a list of racers, set the first place racer (at the front of the list) to last\n",
    "    place and vice versa.\n",
    "    \n",
    "    >>> r = [\"Mario\", \"Bowser\", \"Luigi\"]\n",
    "    >>> purple_shell(r)\n",
    "    >>> r\n",
    "    [\"Luigi\", \"Bowser\", \"Mario\"]\n",
    "    \"\"\"\n",
    "    racers[0], racers[-1] = racers[-1], racers[0]\n",
    "\n",
    "# Check your answer\n",
    "q3.check()"
   ]
  },
  {
   "cell_type": "code",
   "execution_count": 7,
   "id": "d536f8db",
   "metadata": {
    "execution": {
     "iopub.execute_input": "2023-02-15T20:37:27.602246Z",
     "iopub.status.busy": "2023-02-15T20:37:27.601224Z",
     "iopub.status.idle": "2023-02-15T20:37:27.605537Z",
     "shell.execute_reply": "2023-02-15T20:37:27.604628Z"
    },
    "papermill": {
     "duration": 0.016037,
     "end_time": "2023-02-15T20:37:27.607635",
     "exception": false,
     "start_time": "2023-02-15T20:37:27.591598",
     "status": "completed"
    },
    "tags": []
   },
   "outputs": [],
   "source": [
    "#q3.hint()\n",
    "#q3.solution()"
   ]
  },
  {
   "cell_type": "markdown",
   "id": "1e7d46ce",
   "metadata": {
    "papermill": {
     "duration": 0.005509,
     "end_time": "2023-02-15T20:37:27.619149",
     "exception": false,
     "start_time": "2023-02-15T20:37:27.613640",
     "status": "completed"
    },
    "tags": []
   },
   "source": [
    "# 4.\n",
    "\n",
    "What are the lengths of the following lists? Fill in the variable `lengths` with your predictions. (Try to make a prediction for each list *without* just calling `len()` on it.)"
   ]
  },
  {
   "cell_type": "code",
   "execution_count": 8,
   "id": "73b4a869",
   "metadata": {
    "execution": {
     "iopub.execute_input": "2023-02-15T20:37:27.632593Z",
     "iopub.status.busy": "2023-02-15T20:37:27.631861Z",
     "iopub.status.idle": "2023-02-15T20:37:27.640159Z",
     "shell.execute_reply": "2023-02-15T20:37:27.639425Z"
    },
    "papermill": {
     "duration": 0.017409,
     "end_time": "2023-02-15T20:37:27.642206",
     "exception": false,
     "start_time": "2023-02-15T20:37:27.624797",
     "status": "completed"
    },
    "tags": []
   },
   "outputs": [
    {
     "data": {
      "application/javascript": [
       "parent.postMessage({\"jupyterEvent\": \"custom.exercise_interaction\", \"data\": {\"outcomeType\": 1, \"valueTowardsCompletion\": 0.2, \"interactionType\": 1, \"questionType\": 1, \"questionId\": \"4_UnderstandLen\", \"learnToolsVersion\": \"0.3.4\", \"failureMessage\": \"\", \"exceptionClass\": \"\", \"trace\": \"\"}}, \"*\")"
      ],
      "text/plain": [
       "<IPython.core.display.Javascript object>"
      ]
     },
     "metadata": {},
     "output_type": "display_data"
    },
    {
     "data": {
      "text/markdown": [
       "<span style=\"color:#33cc33\">Correct:</span> \n",
       "\n",
       "\n",
       "- a: There are three items in this list. Nothing tricky yet.\n",
       "- b: The list `[2, 3]` counts as a single item. It has one item before it. So we have 2 items in the list\n",
       "- c: The empty list has 0 items\n",
       "- d: The expression is the same as the list `[2, 3]`, which has length 2."
      ],
      "text/plain": [
       "Correct: \n",
       "\n",
       "\n",
       "- a: There are three items in this list. Nothing tricky yet.\n",
       "- b: The list `[2, 3]` counts as a single item. It has one item before it. So we have 2 items in the list\n",
       "- c: The empty list has 0 items\n",
       "- d: The expression is the same as the list `[2, 3]`, which has length 2."
      ]
     },
     "metadata": {},
     "output_type": "display_data"
    }
   ],
   "source": [
    "a = [1, 2, 3]\n",
    "b = [1, [2, 3]]\n",
    "c = []\n",
    "d = [1, 2, 3][1:]\n",
    "\n",
    "# Put your predictions in the list below. Lengths should contain 4 numbers, the\n",
    "# first being the length of a, the second being the length of b and so on.\n",
    "lengths = [3, 2, 0, 2]\n",
    "\n",
    "# Check your answer\n",
    "q4.check()"
   ]
  },
  {
   "cell_type": "code",
   "execution_count": 9,
   "id": "6631c714",
   "metadata": {
    "collapsed": true,
    "execution": {
     "iopub.execute_input": "2023-02-15T20:37:27.656164Z",
     "iopub.status.busy": "2023-02-15T20:37:27.655497Z",
     "iopub.status.idle": "2023-02-15T20:37:27.659279Z",
     "shell.execute_reply": "2023-02-15T20:37:27.658450Z"
    },
    "jupyter": {
     "outputs_hidden": true
    },
    "papermill": {
     "duration": 0.013156,
     "end_time": "2023-02-15T20:37:27.661304",
     "exception": false,
     "start_time": "2023-02-15T20:37:27.648148",
     "status": "completed"
    },
    "tags": []
   },
   "outputs": [],
   "source": [
    "# line below provides some explanation\n",
    "#q4.solution()"
   ]
  },
  {
   "cell_type": "markdown",
   "id": "36a95669",
   "metadata": {
    "papermill": {
     "duration": 0.005611,
     "end_time": "2023-02-15T20:37:27.673113",
     "exception": false,
     "start_time": "2023-02-15T20:37:27.667502",
     "status": "completed"
    },
    "tags": []
   },
   "source": [
    "# 5. <span title=\"A bit spicy\" style=\"color: darkgreen \">🌶️</span>\n",
    "\n",
    "We're using lists to record people who attended our party and what order they arrived in. For example, the following list represents a party with 7 guests, in which Adela showed up first and Ford was the last to arrive:\n",
    "\n",
    "    party_attendees = ['Adela', 'Fleda', 'Owen', 'May', 'Mona', 'Gilbert', 'Ford']\n",
    "\n",
    "A guest is considered 'fashionably late' if they arrived after at least half of the party's guests. However, they must not be the very last guest (that's taking it too far). In the above example, Mona and Gilbert are the only guests who were fashionably late.\n",
    "\n",
    "Complete the function below which takes a list of party attendees as well as a person, and tells us whether that person is fashionably late."
   ]
  },
  {
   "cell_type": "code",
   "execution_count": 10,
   "id": "ef8616db",
   "metadata": {
    "execution": {
     "iopub.execute_input": "2023-02-15T20:37:27.687041Z",
     "iopub.status.busy": "2023-02-15T20:37:27.686327Z",
     "iopub.status.idle": "2023-02-15T20:37:27.695090Z",
     "shell.execute_reply": "2023-02-15T20:37:27.694277Z"
    },
    "papermill": {
     "duration": 0.018187,
     "end_time": "2023-02-15T20:37:27.697184",
     "exception": false,
     "start_time": "2023-02-15T20:37:27.678997",
     "status": "completed"
    },
    "tags": []
   },
   "outputs": [
    {
     "data": {
      "application/javascript": [
       "parent.postMessage({\"jupyterEvent\": \"custom.exercise_interaction\", \"data\": {\"outcomeType\": 1, \"valueTowardsCompletion\": 0.2, \"interactionType\": 1, \"questionType\": 2, \"questionId\": \"5_FashionablyLate\", \"learnToolsVersion\": \"0.3.4\", \"failureMessage\": \"\", \"exceptionClass\": \"\", \"trace\": \"\"}}, \"*\")"
      ],
      "text/plain": [
       "<IPython.core.display.Javascript object>"
      ]
     },
     "metadata": {},
     "output_type": "display_data"
    },
    {
     "data": {
      "text/markdown": [
       "<span style=\"color:#33cc33\">Correct</span>"
      ],
      "text/plain": [
       "Correct"
      ]
     },
     "metadata": {},
     "output_type": "display_data"
    }
   ],
   "source": [
    "def fashionably_late(arrivals, name):\n",
    "    \"\"\"Given an ordered list of arrivals to the party and a name, return whether the guest with that\n",
    "    name was fashionably late.\n",
    "    \"\"\"\n",
    "    if len(arrivals) % 2 == 1:\n",
    "        return name in arrivals[(len(arrivals)//2)+1:-1]\n",
    "    return name in arrivals[(len(arrivals)//2):-1]\n",
    "# Check your answer\n",
    "q5.check()"
   ]
  },
  {
   "cell_type": "code",
   "execution_count": 11,
   "id": "da928443",
   "metadata": {
    "execution": {
     "iopub.execute_input": "2023-02-15T20:37:27.712168Z",
     "iopub.status.busy": "2023-02-15T20:37:27.711451Z",
     "iopub.status.idle": "2023-02-15T20:37:27.715329Z",
     "shell.execute_reply": "2023-02-15T20:37:27.714541Z"
    },
    "papermill": {
     "duration": 0.014141,
     "end_time": "2023-02-15T20:37:27.717729",
     "exception": false,
     "start_time": "2023-02-15T20:37:27.703588",
     "status": "completed"
    },
    "tags": []
   },
   "outputs": [],
   "source": [
    "#q5.hint()\n",
    "#q5.solution()"
   ]
  },
  {
   "cell_type": "markdown",
   "id": "7f4d0a23",
   "metadata": {
    "papermill": {
     "duration": 0.005992,
     "end_time": "2023-02-15T20:37:27.730070",
     "exception": false,
     "start_time": "2023-02-15T20:37:27.724078",
     "status": "completed"
    },
    "tags": []
   },
   "source": [
    "# Keep Going\n",
    "\n",
    "That's it for lists and tuples! Now you have the baseline knowledge to **[learn about loops](https://www.kaggle.com/colinmorris/loops-and-list-comprehensions)**, which is where lists and tuples get really interesting. "
   ]
  },
  {
   "cell_type": "markdown",
   "id": "c51feb0a",
   "metadata": {
    "papermill": {
     "duration": 0.006408,
     "end_time": "2023-02-15T20:37:27.742798",
     "exception": false,
     "start_time": "2023-02-15T20:37:27.736390",
     "status": "completed"
    },
    "tags": []
   },
   "source": [
    "---\n",
    "\n",
    "\n",
    "\n",
    "\n",
    "*Have questions or comments? Visit the [course discussion forum](https://www.kaggle.com/learn/python/discussion) to chat with other learners.*"
   ]
  }
 ],
 "metadata": {
  "kernelspec": {
   "display_name": "Python 3",
   "language": "python",
   "name": "python3"
  },
  "language_info": {
   "codemirror_mode": {
    "name": "ipython",
    "version": 3
   },
   "file_extension": ".py",
   "mimetype": "text/x-python",
   "name": "python",
   "nbconvert_exporter": "python",
   "pygments_lexer": "ipython3",
   "version": "3.7.12"
  },
  "papermill": {
   "default_parameters": {},
   "duration": 9.657379,
   "end_time": "2023-02-15T20:37:28.471058",
   "environment_variables": {},
   "exception": null,
   "input_path": "__notebook__.ipynb",
   "output_path": "__notebook__.ipynb",
   "parameters": {},
   "start_time": "2023-02-15T20:37:18.813679",
   "version": "2.3.4"
  }
 },
 "nbformat": 4,
 "nbformat_minor": 5
}
