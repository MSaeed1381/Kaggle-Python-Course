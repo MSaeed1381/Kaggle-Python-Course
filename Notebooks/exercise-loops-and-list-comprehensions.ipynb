{
 "cells": [
  {
   "cell_type": "markdown",
   "id": "c72c7570",
   "metadata": {
    "papermill": {
     "duration": 0.006035,
     "end_time": "2023-02-16T10:59:53.513671",
     "exception": false,
     "start_time": "2023-02-16T10:59:53.507636",
     "status": "completed"
    },
    "tags": []
   },
   "source": [
    "**This notebook is an exercise in the [Python](https://www.kaggle.com/learn/python) course.  You can reference the tutorial at [this link](https://www.kaggle.com/colinmorris/loops-and-list-comprehensions).**\n",
    "\n",
    "---\n"
   ]
  },
  {
   "cell_type": "markdown",
   "id": "4e102a25",
   "metadata": {
    "papermill": {
     "duration": 0.004769,
     "end_time": "2023-02-16T10:59:53.523669",
     "exception": false,
     "start_time": "2023-02-16T10:59:53.518900",
     "status": "completed"
    },
    "tags": []
   },
   "source": [
    "With all you've learned, you can start writing much more interesting programs. See if you can solve the problems below.\n",
    "\n",
    "As always, run the setup code below before working on the questions."
   ]
  },
  {
   "cell_type": "code",
   "execution_count": 1,
   "id": "5a28716f",
   "metadata": {
    "execution": {
     "iopub.execute_input": "2023-02-16T10:59:53.535403Z",
     "iopub.status.busy": "2023-02-16T10:59:53.535004Z",
     "iopub.status.idle": "2023-02-16T10:59:53.595499Z",
     "shell.execute_reply": "2023-02-16T10:59:53.594663Z"
    },
    "papermill": {
     "duration": 0.069472,
     "end_time": "2023-02-16T10:59:53.597952",
     "exception": false,
     "start_time": "2023-02-16T10:59:53.528480",
     "status": "completed"
    },
    "tags": []
   },
   "outputs": [
    {
     "name": "stdout",
     "output_type": "stream",
     "text": [
      "Setup complete.\n"
     ]
    }
   ],
   "source": [
    "from learntools.core import binder; binder.bind(globals())\n",
    "from learntools.python.ex5 import *\n",
    "print('Setup complete.')"
   ]
  },
  {
   "cell_type": "markdown",
   "id": "e5e735e7",
   "metadata": {
    "papermill": {
     "duration": 0.004754,
     "end_time": "2023-02-16T10:59:53.609053",
     "exception": false,
     "start_time": "2023-02-16T10:59:53.604299",
     "status": "completed"
    },
    "tags": []
   },
   "source": [
    "# 1.\n",
    "\n",
    "Have you ever felt debugging involved a bit of luck? The following program has a bug. Try to identify the bug and fix it."
   ]
  },
  {
   "cell_type": "code",
   "execution_count": 2,
   "id": "4a91fd56",
   "metadata": {
    "execution": {
     "iopub.execute_input": "2023-02-16T10:59:53.621004Z",
     "iopub.status.busy": "2023-02-16T10:59:53.620533Z",
     "iopub.status.idle": "2023-02-16T10:59:53.626034Z",
     "shell.execute_reply": "2023-02-16T10:59:53.624852Z"
    },
    "papermill": {
     "duration": 0.014435,
     "end_time": "2023-02-16T10:59:53.628448",
     "exception": false,
     "start_time": "2023-02-16T10:59:53.614013",
     "status": "completed"
    },
    "tags": []
   },
   "outputs": [],
   "source": [
    "def has_lucky_number(nums):\n",
    "    \"\"\"Return whether the given list of numbers is lucky. A lucky list contains\n",
    "    at least one number divisible by 7.\n",
    "    \"\"\"\n",
    "    for num in nums:\n",
    "        if num % 7 == 0:\n",
    "            return True\n",
    "        else:\n",
    "            return False"
   ]
  },
  {
   "cell_type": "markdown",
   "id": "4c75b763",
   "metadata": {
    "papermill": {
     "duration": 0.004681,
     "end_time": "2023-02-16T10:59:53.638174",
     "exception": false,
     "start_time": "2023-02-16T10:59:53.633493",
     "status": "completed"
    },
    "tags": []
   },
   "source": [
    "Try to identify the bug and fix it in the cell below:"
   ]
  },
  {
   "cell_type": "code",
   "execution_count": 3,
   "id": "7fe1664b",
   "metadata": {
    "execution": {
     "iopub.execute_input": "2023-02-16T10:59:53.650065Z",
     "iopub.status.busy": "2023-02-16T10:59:53.649608Z",
     "iopub.status.idle": "2023-02-16T10:59:53.661595Z",
     "shell.execute_reply": "2023-02-16T10:59:53.660156Z"
    },
    "papermill": {
     "duration": 0.020689,
     "end_time": "2023-02-16T10:59:53.663684",
     "exception": false,
     "start_time": "2023-02-16T10:59:53.642995",
     "status": "completed"
    },
    "tags": []
   },
   "outputs": [
    {
     "data": {
      "application/javascript": [
       "parent.postMessage({\"jupyterEvent\": \"custom.exercise_interaction\", \"data\": {\"outcomeType\": 1, \"valueTowardsCompletion\": 0.25, \"interactionType\": 1, \"questionType\": 2, \"questionId\": \"1_EarlyExitDebugging\", \"learnToolsVersion\": \"0.3.4\", \"failureMessage\": \"\", \"exceptionClass\": \"\", \"trace\": \"\"}}, \"*\")"
      ],
      "text/plain": [
       "<IPython.core.display.Javascript object>"
      ]
     },
     "metadata": {},
     "output_type": "display_data"
    },
    {
     "data": {
      "text/markdown": [
       "<span style=\"color:#33cc33\">Correct:</span> \n",
       "\n",
       "Remember that `return` causes a function to exit immediately. So our original implementation always ran for just one iteration. We can only return `False` if we've looked at every element of the list (and confirmed that none of them are lucky). Though we can return early if the answer is `True`:\n",
       "\n",
       "```python\n",
       "def has_lucky_number(nums):\n",
       "    for num in nums:\n",
       "        if num % 7 == 0:\n",
       "            return True\n",
       "    # We've exhausted the list without finding a lucky number\n",
       "    return False\n",
       "```\n",
       "\n",
       "Here's a one-line version using a list comprehension with Python's `any` function (you can read about what it does by calling `help(any)`):\n",
       "\n",
       "```python\n",
       "def has_lucky_number(nums):\n",
       "    return any([num % 7 == 0 for num in nums])\n",
       "```\n"
      ],
      "text/plain": [
       "Correct: \n",
       "\n",
       "Remember that `return` causes a function to exit immediately. So our original implementation always ran for just one iteration. We can only return `False` if we've looked at every element of the list (and confirmed that none of them are lucky). Though we can return early if the answer is `True`:\n",
       "\n",
       "```python\n",
       "def has_lucky_number(nums):\n",
       "    for num in nums:\n",
       "        if num % 7 == 0:\n",
       "            return True\n",
       "    # We've exhausted the list without finding a lucky number\n",
       "    return False\n",
       "```\n",
       "\n",
       "Here's a one-line version using a list comprehension with Python's `any` function (you can read about what it does by calling `help(any)`):\n",
       "\n",
       "```python\n",
       "def has_lucky_number(nums):\n",
       "    return any([num % 7 == 0 for num in nums])\n",
       "```"
      ]
     },
     "metadata": {},
     "output_type": "display_data"
    }
   ],
   "source": [
    "def has_lucky_number(nums):\n",
    "    \"\"\"Return whether the given list of numbers is lucky. A lucky list contains\n",
    "    at least one number divisible by 7.\n",
    "    \"\"\"\n",
    "    for num in nums:\n",
    "        if num % 7 == 0:\n",
    "            return True\n",
    "    return False\n",
    "\n",
    "# Check your answer\n",
    "q1.check()"
   ]
  },
  {
   "cell_type": "code",
   "execution_count": 4,
   "id": "5b0ed0fd",
   "metadata": {
    "execution": {
     "iopub.execute_input": "2023-02-16T10:59:53.676176Z",
     "iopub.status.busy": "2023-02-16T10:59:53.675742Z",
     "iopub.status.idle": "2023-02-16T10:59:53.679854Z",
     "shell.execute_reply": "2023-02-16T10:59:53.678934Z"
    },
    "papermill": {
     "duration": 0.013108,
     "end_time": "2023-02-16T10:59:53.682201",
     "exception": false,
     "start_time": "2023-02-16T10:59:53.669093",
     "status": "completed"
    },
    "tags": []
   },
   "outputs": [],
   "source": [
    "#q1.hint()\n",
    "#q1.solution()"
   ]
  },
  {
   "cell_type": "markdown",
   "id": "dfaec672",
   "metadata": {
    "papermill": {
     "duration": 0.005044,
     "end_time": "2023-02-16T10:59:53.692578",
     "exception": false,
     "start_time": "2023-02-16T10:59:53.687534",
     "status": "completed"
    },
    "tags": []
   },
   "source": [
    "# 2.\n",
    "Look at the Python expression below. What do you think we'll get when we run it? When you've made your prediction, uncomment the code and run the cell to see if you were right."
   ]
  },
  {
   "cell_type": "code",
   "execution_count": 5,
   "id": "a46c1106",
   "metadata": {
    "execution": {
     "iopub.execute_input": "2023-02-16T10:59:53.704947Z",
     "iopub.status.busy": "2023-02-16T10:59:53.704522Z",
     "iopub.status.idle": "2023-02-16T10:59:53.710661Z",
     "shell.execute_reply": "2023-02-16T10:59:53.708765Z"
    },
    "papermill": {
     "duration": 0.015897,
     "end_time": "2023-02-16T10:59:53.713586",
     "exception": false,
     "start_time": "2023-02-16T10:59:53.697689",
     "status": "completed"
    },
    "tags": []
   },
   "outputs": [],
   "source": [
    "#[1, 2, 3, 4] > 2"
   ]
  },
  {
   "cell_type": "markdown",
   "id": "0605cb49",
   "metadata": {
    "papermill": {
     "duration": 0.005096,
     "end_time": "2023-02-16T10:59:53.724423",
     "exception": false,
     "start_time": "2023-02-16T10:59:53.719327",
     "status": "completed"
    },
    "tags": []
   },
   "source": [
    "R and Python have some libraries (like numpy and pandas) compare each element of the list to 2 (i.e. do an 'element-wise' comparison) and give us a list of booleans like `[False, False, True, True]`. \n",
    "\n",
    "Implement a function that reproduces this behaviour, returning a list of booleans corresponding to whether the corresponding element is greater than n."
   ]
  },
  {
   "cell_type": "code",
   "execution_count": 6,
   "id": "894a0434",
   "metadata": {
    "execution": {
     "iopub.execute_input": "2023-02-16T10:59:53.737005Z",
     "iopub.status.busy": "2023-02-16T10:59:53.736610Z",
     "iopub.status.idle": "2023-02-16T10:59:53.745922Z",
     "shell.execute_reply": "2023-02-16T10:59:53.744175Z"
    },
    "papermill": {
     "duration": 0.018673,
     "end_time": "2023-02-16T10:59:53.748407",
     "exception": false,
     "start_time": "2023-02-16T10:59:53.729734",
     "status": "completed"
    },
    "tags": []
   },
   "outputs": [
    {
     "data": {
      "application/javascript": [
       "parent.postMessage({\"jupyterEvent\": \"custom.exercise_interaction\", \"data\": {\"outcomeType\": 1, \"valueTowardsCompletion\": 0.25, \"interactionType\": 1, \"questionType\": 2, \"questionId\": \"2_ElementWiseComparison\", \"learnToolsVersion\": \"0.3.4\", \"failureMessage\": \"\", \"exceptionClass\": \"\", \"trace\": \"\"}}, \"*\")"
      ],
      "text/plain": [
       "<IPython.core.display.Javascript object>"
      ]
     },
     "metadata": {},
     "output_type": "display_data"
    },
    {
     "data": {
      "text/markdown": [
       "<span style=\"color:#33cc33\">Correct:</span> \n",
       "\n",
       "Here's one solution:\n",
       "```python\n",
       "def elementwise_greater_than(L, thresh):\n",
       "    res = []\n",
       "    for ele in L:\n",
       "        res.append(ele > thresh)\n",
       "    return res\n",
       "```\n",
       "\n",
       "And here's the list comprehension version:\n",
       "```python\n",
       "def elementwise_greater_than(L, thresh):\n",
       "    return [ele > thresh for ele in L]\n",
       "```\n"
      ],
      "text/plain": [
       "Correct: \n",
       "\n",
       "Here's one solution:\n",
       "```python\n",
       "def elementwise_greater_than(L, thresh):\n",
       "    res = []\n",
       "    for ele in L:\n",
       "        res.append(ele > thresh)\n",
       "    return res\n",
       "```\n",
       "\n",
       "And here's the list comprehension version:\n",
       "```python\n",
       "def elementwise_greater_than(L, thresh):\n",
       "    return [ele > thresh for ele in L]\n",
       "```"
      ]
     },
     "metadata": {},
     "output_type": "display_data"
    }
   ],
   "source": [
    "def elementwise_greater_than(L, thresh):\n",
    "    \"\"\"Return a list with the same length as L, where the value at index i is \n",
    "    True if L[i] is greater than thresh, and False otherwise.\n",
    "    \n",
    "    >>> elementwise_greater_than([1, 2, 3, 4], 2)\n",
    "    [False, False, True, True]\n",
    "    \"\"\"\n",
    "    return [number > thresh for number in L]\n",
    "\n",
    "# Check your answer\n",
    "q2.check()"
   ]
  },
  {
   "cell_type": "code",
   "execution_count": 7,
   "id": "96ceace4",
   "metadata": {
    "execution": {
     "iopub.execute_input": "2023-02-16T10:59:53.762808Z",
     "iopub.status.busy": "2023-02-16T10:59:53.762440Z",
     "iopub.status.idle": "2023-02-16T10:59:53.767226Z",
     "shell.execute_reply": "2023-02-16T10:59:53.766058Z"
    },
    "papermill": {
     "duration": 0.014992,
     "end_time": "2023-02-16T10:59:53.769350",
     "exception": false,
     "start_time": "2023-02-16T10:59:53.754358",
     "status": "completed"
    },
    "tags": []
   },
   "outputs": [],
   "source": [
    "#q2.solution()"
   ]
  },
  {
   "cell_type": "markdown",
   "id": "ef286bb5",
   "metadata": {
    "papermill": {
     "duration": 0.005301,
     "end_time": "2023-02-16T10:59:53.780325",
     "exception": false,
     "start_time": "2023-02-16T10:59:53.775024",
     "status": "completed"
    },
    "tags": []
   },
   "source": [
    "# 3.\n",
    "\n",
    "Complete the body of the function below according to its docstring."
   ]
  },
  {
   "cell_type": "code",
   "execution_count": 8,
   "id": "9494dda8",
   "metadata": {
    "execution": {
     "iopub.execute_input": "2023-02-16T10:59:53.793761Z",
     "iopub.status.busy": "2023-02-16T10:59:53.793128Z",
     "iopub.status.idle": "2023-02-16T10:59:53.801100Z",
     "shell.execute_reply": "2023-02-16T10:59:53.799924Z"
    },
    "papermill": {
     "duration": 0.017424,
     "end_time": "2023-02-16T10:59:53.803454",
     "exception": false,
     "start_time": "2023-02-16T10:59:53.786030",
     "status": "completed"
    },
    "tags": []
   },
   "outputs": [
    {
     "data": {
      "application/javascript": [
       "parent.postMessage({\"jupyterEvent\": \"custom.exercise_interaction\", \"data\": {\"outcomeType\": 1, \"valueTowardsCompletion\": 0.25, \"interactionType\": 1, \"questionType\": 2, \"questionId\": \"3_BoringMenu\", \"learnToolsVersion\": \"0.3.4\", \"failureMessage\": \"\", \"exceptionClass\": \"\", \"trace\": \"\"}}, \"*\")"
      ],
      "text/plain": [
       "<IPython.core.display.Javascript object>"
      ]
     },
     "metadata": {},
     "output_type": "display_data"
    },
    {
     "data": {
      "text/markdown": [
       "<span style=\"color:#33cc33\">Correct:</span> \n",
       "\n",
       "\n",
       "\n",
       "```python\n",
       "def menu_is_boring(meals):\n",
       "    # Iterate over all indices of the list, except the last one\n",
       "    for i in range(len(meals)-1):\n",
       "        if meals[i] == meals[i+1]:\n",
       "            return True\n",
       "    return False\n",
       "```\n",
       "\n",
       "The key to our solution is the call to `range`. `range(len(meals))` would give us all the indices of `meals`. If we had used that range, the last iteration of the loop would be comparing the last element to the element after it, which is... `IndexError`! `range(len(meals)-1)` gives us all the indices except the index of the last element.\n",
       "\n",
       "But don't we need to check if `meals` is empty? Turns out that `range(0) == range(-1)` - they're both empty. So if `meals` has length 0 or 1, we just won't do any iterations of our for loop.\n"
      ],
      "text/plain": [
       "Correct: \n",
       "\n",
       "\n",
       "\n",
       "```python\n",
       "def menu_is_boring(meals):\n",
       "    # Iterate over all indices of the list, except the last one\n",
       "    for i in range(len(meals)-1):\n",
       "        if meals[i] == meals[i+1]:\n",
       "            return True\n",
       "    return False\n",
       "```\n",
       "\n",
       "The key to our solution is the call to `range`. `range(len(meals))` would give us all the indices of `meals`. If we had used that range, the last iteration of the loop would be comparing the last element to the element after it, which is... `IndexError`! `range(len(meals)-1)` gives us all the indices except the index of the last element.\n",
       "\n",
       "But don't we need to check if `meals` is empty? Turns out that `range(0) == range(-1)` - they're both empty. So if `meals` has length 0 or 1, we just won't do any iterations of our for loop."
      ]
     },
     "metadata": {},
     "output_type": "display_data"
    }
   ],
   "source": [
    "def menu_is_boring(meals):\n",
    "    \"\"\"Given a list of meals served over some period of time, return True if the\n",
    "    same meal has ever been served two days in a row, and False otherwise.\n",
    "    \"\"\"\n",
    "    return any([meals[i] == meals[i+1] for i in range(0, len(meals)-1)])\n",
    "\n",
    "# Check your answer\n",
    "q3.check()"
   ]
  },
  {
   "cell_type": "code",
   "execution_count": 9,
   "id": "7d6aee1f",
   "metadata": {
    "execution": {
     "iopub.execute_input": "2023-02-16T10:59:53.816735Z",
     "iopub.status.busy": "2023-02-16T10:59:53.816153Z",
     "iopub.status.idle": "2023-02-16T10:59:53.819837Z",
     "shell.execute_reply": "2023-02-16T10:59:53.818741Z"
    },
    "papermill": {
     "duration": 0.012985,
     "end_time": "2023-02-16T10:59:53.822304",
     "exception": false,
     "start_time": "2023-02-16T10:59:53.809319",
     "status": "completed"
    },
    "tags": []
   },
   "outputs": [],
   "source": [
    "#q3.hint()\n",
    "#q3.solution()"
   ]
  },
  {
   "cell_type": "markdown",
   "id": "5208f118",
   "metadata": {
    "papermill": {
     "duration": 0.006107,
     "end_time": "2023-02-16T10:59:53.834408",
     "exception": false,
     "start_time": "2023-02-16T10:59:53.828301",
     "status": "completed"
    },
    "tags": []
   },
   "source": [
    "# 4. <span title=\"A bit spicy\" style=\"color: darkgreen \">🌶️</span>\n",
    "\n",
    "Next to the Blackjack table, the Python Challenge Casino has a slot machine. You can get a result from the slot machine by calling `play_slot_machine()`. The number it returns is your winnings in dollars. Usually it returns 0.  But sometimes you'll get lucky and get a big payday. Try running it below:"
   ]
  },
  {
   "cell_type": "code",
   "execution_count": 10,
   "id": "2160aac5",
   "metadata": {
    "execution": {
     "iopub.execute_input": "2023-02-16T10:59:53.848661Z",
     "iopub.status.busy": "2023-02-16T10:59:53.848017Z",
     "iopub.status.idle": "2023-02-16T10:59:53.854359Z",
     "shell.execute_reply": "2023-02-16T10:59:53.853547Z"
    },
    "papermill": {
     "duration": 0.016054,
     "end_time": "2023-02-16T10:59:53.856725",
     "exception": false,
     "start_time": "2023-02-16T10:59:53.840671",
     "status": "completed"
    },
    "tags": []
   },
   "outputs": [
    {
     "data": {
      "text/plain": [
       "0"
      ]
     },
     "execution_count": 10,
     "metadata": {},
     "output_type": "execute_result"
    }
   ],
   "source": [
    "play_slot_machine()"
   ]
  },
  {
   "cell_type": "markdown",
   "id": "d97c7a19",
   "metadata": {
    "papermill": {
     "duration": 0.005606,
     "end_time": "2023-02-16T10:59:53.868472",
     "exception": false,
     "start_time": "2023-02-16T10:59:53.862866",
     "status": "completed"
    },
    "tags": []
   },
   "source": [
    "By the way, did we mention that each play costs $1? Don't worry, we'll send you the bill later.\n",
    "\n",
    "On average, how much money can you expect to gain (or lose) every time you play the machine?  The casino keeps it a secret, but you can estimate the average value of each pull using a technique called the **Monte Carlo method**. To estimate the average outcome, we simulate the scenario many times, and return the average result.\n",
    "\n",
    "Complete the following function to calculate the average value per play of the slot machine."
   ]
  },
  {
   "cell_type": "code",
   "execution_count": 11,
   "id": "4cfc062a",
   "metadata": {
    "execution": {
     "iopub.execute_input": "2023-02-16T10:59:53.882033Z",
     "iopub.status.busy": "2023-02-16T10:59:53.881641Z",
     "iopub.status.idle": "2023-02-16T10:59:53.886268Z",
     "shell.execute_reply": "2023-02-16T10:59:53.885321Z"
    },
    "papermill": {
     "duration": 0.013823,
     "end_time": "2023-02-16T10:59:53.888116",
     "exception": false,
     "start_time": "2023-02-16T10:59:53.874293",
     "status": "completed"
    },
    "tags": []
   },
   "outputs": [],
   "source": [
    "def estimate_average_slot_payout(n_runs):\n",
    "    \"\"\"Run the slot machine n_runs times and return the average net profit per run.\n",
    "    Example calls (note that return value is nondeterministic!):\n",
    "    >>> estimate_average_slot_payout(1)\n",
    "    -1\n",
    "    >>> estimate_average_slot_payout(1)\n",
    "    0.5\n",
    "    \"\"\"\n",
    "    return sum([play_slot_machine()-1 for i in range(n_runs)]) / n_runs\n",
    "    "
   ]
  },
  {
   "cell_type": "markdown",
   "id": "d39ac10b",
   "metadata": {
    "papermill": {
     "duration": 0.0055,
     "end_time": "2023-02-16T10:59:53.899682",
     "exception": false,
     "start_time": "2023-02-16T10:59:53.894182",
     "status": "completed"
    },
    "tags": []
   },
   "source": [
    "When you think you know the expected value per spin, run the code cell below to view the solution and get credit for answering the question."
   ]
  },
  {
   "cell_type": "code",
   "execution_count": 12,
   "id": "8223a54c",
   "metadata": {
    "execution": {
     "iopub.execute_input": "2023-02-16T10:59:53.914076Z",
     "iopub.status.busy": "2023-02-16T10:59:53.913435Z",
     "iopub.status.idle": "2023-02-16T10:59:53.919678Z",
     "shell.execute_reply": "2023-02-16T10:59:53.919048Z"
    },
    "papermill": {
     "duration": 0.015244,
     "end_time": "2023-02-16T10:59:53.921573",
     "exception": false,
     "start_time": "2023-02-16T10:59:53.906329",
     "status": "completed"
    },
    "tags": []
   },
   "outputs": [
    {
     "data": {
      "application/javascript": [
       "parent.postMessage({\"jupyterEvent\": \"custom.exercise_interaction\", \"data\": {\"interactionType\": 3, \"questionType\": 4, \"questionId\": \"4_ExpectedSlotsPayout\", \"learnToolsVersion\": \"0.3.4\", \"valueTowardsCompletion\": 0.0, \"failureMessage\": \"\", \"exceptionClass\": \"\", \"trace\": \"\", \"outcomeType\": 4}}, \"*\")"
      ],
      "text/plain": [
       "<IPython.core.display.Javascript object>"
      ]
     },
     "metadata": {},
     "output_type": "display_data"
    },
    {
     "data": {
      "text/markdown": [
       "<span style=\"color:#33cc99\">Solution:</span> \n",
       "    \n",
       "The exact expected value of one pull of the slot machine is 0.025 - i.e. a little more than 2 cents.  See?  Not every game in the Python Challenge Casino is rigged against the player!\n",
       "\n",
       "In order to get this answer, you'll need to implement the `estimate_average_slot_payout(n_runs)` function to simulate pulling the slot machine `n_runs` times.  It should return the payout averaged over those `n_runs`.\n",
       "\n",
       "Then, once the function is defined, in order to estimate the average slot payout, we need only call the function.\n",
       "\n",
       "Because of the high variance of the outcome (there are some very rare high payout results that significantly affect the average) you might need to run your function with a very high value of `n_runs` to get a stable answer close to the true expectation.  For instance, you might use a value for `n_runs` of 1000000.\n",
       "\n",
       "Here's an example for how the function could look:\n",
       "```python\n",
       "def estimate_average_slot_payout(n_runs):\n",
       "    # Play slot machine n_runs times, calculate payout of each\n",
       "    payouts = [play_slot_machine()-1 for i in range(n_runs)]\n",
       "    # Calculate the average value\n",
       "    avg_payout = sum(payouts) / n_runs\n",
       "    return avg_payout\n",
       "    \n",
       "estimate_average_slot_payout(10000000)\n",
       "\n",
       "```\n",
       "\n",
       "This should return an answer close to 0.025!\n",
       "            \n"
      ],
      "text/plain": [
       "Solution: \n",
       "    \n",
       "The exact expected value of one pull of the slot machine is 0.025 - i.e. a little more than 2 cents.  See?  Not every game in the Python Challenge Casino is rigged against the player!\n",
       "\n",
       "In order to get this answer, you'll need to implement the `estimate_average_slot_payout(n_runs)` function to simulate pulling the slot machine `n_runs` times.  It should return the payout averaged over those `n_runs`.\n",
       "\n",
       "Then, once the function is defined, in order to estimate the average slot payout, we need only call the function.\n",
       "\n",
       "Because of the high variance of the outcome (there are some very rare high payout results that significantly affect the average) you might need to run your function with a very high value of `n_runs` to get a stable answer close to the true expectation.  For instance, you might use a value for `n_runs` of 1000000.\n",
       "\n",
       "Here's an example for how the function could look:\n",
       "```python\n",
       "def estimate_average_slot_payout(n_runs):\n",
       "    # Play slot machine n_runs times, calculate payout of each\n",
       "    payouts = [play_slot_machine()-1 for i in range(n_runs)]\n",
       "    # Calculate the average value\n",
       "    avg_payout = sum(payouts) / n_runs\n",
       "    return avg_payout\n",
       "    \n",
       "estimate_average_slot_payout(10000000)\n",
       "\n",
       "```\n",
       "\n",
       "This should return an answer close to 0.025!\n",
       "            "
      ]
     },
     "metadata": {},
     "output_type": "display_data"
    }
   ],
   "source": [
    "# Check your answer (Run this code cell to receive credit!)\n",
    "q4.solution()"
   ]
  },
  {
   "cell_type": "markdown",
   "id": "367b8e82",
   "metadata": {
    "papermill": {
     "duration": 0.005779,
     "end_time": "2023-02-16T10:59:53.933680",
     "exception": false,
     "start_time": "2023-02-16T10:59:53.927901",
     "status": "completed"
    },
    "tags": []
   },
   "source": [
    "# Keep Going\n",
    "\n",
    "Many programmers report that dictionaries are their favorite data structure. You'll get to **[learn about them](https://www.kaggle.com/colinmorris/strings-and-dictionaries)** (as well as strings) in the next lesson."
   ]
  },
  {
   "cell_type": "markdown",
   "id": "04ce0a70",
   "metadata": {
    "papermill": {
     "duration": 0.005783,
     "end_time": "2023-02-16T10:59:53.945405",
     "exception": false,
     "start_time": "2023-02-16T10:59:53.939622",
     "status": "completed"
    },
    "tags": []
   },
   "source": [
    "---\n",
    "\n",
    "\n",
    "\n",
    "\n",
    "*Have questions or comments? Visit the [course discussion forum](https://www.kaggle.com/learn/python/discussion) to chat with other learners.*"
   ]
  }
 ],
 "metadata": {
  "kernelspec": {
   "display_name": "Python 3",
   "language": "python",
   "name": "python3"
  },
  "language_info": {
   "codemirror_mode": {
    "name": "ipython",
    "version": 3
   },
   "file_extension": ".py",
   "mimetype": "text/x-python",
   "name": "python",
   "nbconvert_exporter": "python",
   "pygments_lexer": "ipython3",
   "version": "3.7.12"
  },
  "papermill": {
   "default_parameters": {},
   "duration": 9.298587,
   "end_time": "2023-02-16T10:59:54.572876",
   "environment_variables": {},
   "exception": null,
   "input_path": "__notebook__.ipynb",
   "output_path": "__notebook__.ipynb",
   "parameters": {},
   "start_time": "2023-02-16T10:59:45.274289",
   "version": "2.3.4"
  }
 },
 "nbformat": 4,
 "nbformat_minor": 5
}
