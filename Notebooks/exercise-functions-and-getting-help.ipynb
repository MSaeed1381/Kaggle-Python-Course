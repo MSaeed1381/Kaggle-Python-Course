{
 "cells": [
  {
   "cell_type": "markdown",
   "id": "c5afa30f",
   "metadata": {
    "papermill": {
     "duration": 0.00652,
     "end_time": "2023-02-14T16:13:45.924929",
     "exception": false,
     "start_time": "2023-02-14T16:13:45.918409",
     "status": "completed"
    },
    "tags": []
   },
   "source": [
    "**This notebook is an exercise in the [Python](https://www.kaggle.com/learn/python) course.  You can reference the tutorial at [this link](https://www.kaggle.com/colinmorris/functions-and-getting-help).**\n",
    "\n",
    "---\n"
   ]
  },
  {
   "cell_type": "markdown",
   "id": "befd1c6a",
   "metadata": {
    "papermill": {
     "duration": 0.004964,
     "end_time": "2023-02-14T16:13:45.935328",
     "exception": false,
     "start_time": "2023-02-14T16:13:45.930364",
     "status": "completed"
    },
    "tags": []
   },
   "source": [
    "Functions are powerful. Try writing some yourself.\n",
    "\n",
    "As before, don't forget to run the setup code below before jumping into question 1."
   ]
  },
  {
   "cell_type": "code",
   "execution_count": 1,
   "id": "7f8424b3",
   "metadata": {
    "_kg_hide-input": true,
    "_kg_hide-output": true,
    "execution": {
     "iopub.execute_input": "2023-02-14T16:13:45.948531Z",
     "iopub.status.busy": "2023-02-14T16:13:45.947098Z",
     "iopub.status.idle": "2023-02-14T16:13:46.023335Z",
     "shell.execute_reply": "2023-02-14T16:13:46.021909Z"
    },
    "papermill": {
     "duration": 0.086066,
     "end_time": "2023-02-14T16:13:46.026578",
     "exception": false,
     "start_time": "2023-02-14T16:13:45.940512",
     "status": "completed"
    },
    "tags": []
   },
   "outputs": [
    {
     "name": "stdout",
     "output_type": "stream",
     "text": [
      "Setup complete.\n"
     ]
    }
   ],
   "source": [
    "# SETUP. You don't need to worry for now about what this code does or how it works.\n",
    "from learntools.core import binder; binder.bind(globals())\n",
    "from learntools.python.ex2 import *\n",
    "print('Setup complete.')"
   ]
  },
  {
   "cell_type": "markdown",
   "id": "e95947bc",
   "metadata": {
    "papermill": {
     "duration": 0.005022,
     "end_time": "2023-02-14T16:13:46.037738",
     "exception": false,
     "start_time": "2023-02-14T16:13:46.032716",
     "status": "completed"
    },
    "tags": []
   },
   "source": [
    "# 1.\n",
    "\n",
    "Complete the body of the following function according to its docstring.\n",
    "\n",
    "HINT: Python has a built-in function `round`."
   ]
  },
  {
   "cell_type": "code",
   "execution_count": 2,
   "id": "1571a30a",
   "metadata": {
    "execution": {
     "iopub.execute_input": "2023-02-14T16:13:46.052883Z",
     "iopub.status.busy": "2023-02-14T16:13:46.051297Z",
     "iopub.status.idle": "2023-02-14T16:13:46.069854Z",
     "shell.execute_reply": "2023-02-14T16:13:46.068445Z"
    },
    "papermill": {
     "duration": 0.029198,
     "end_time": "2023-02-14T16:13:46.072947",
     "exception": false,
     "start_time": "2023-02-14T16:13:46.043749",
     "status": "completed"
    },
    "tags": []
   },
   "outputs": [
    {
     "data": {
      "application/javascript": [
       "parent.postMessage({\"jupyterEvent\": \"custom.exercise_interaction\", \"data\": {\"outcomeType\": 1, \"valueTowardsCompletion\": 0.16666666666666666, \"interactionType\": 1, \"questionType\": 2, \"questionId\": \"1_RoundFunctionProblem\", \"learnToolsVersion\": \"0.3.4\", \"failureMessage\": \"\", \"exceptionClass\": \"\", \"trace\": \"\"}}, \"*\")"
      ],
      "text/plain": [
       "<IPython.core.display.Javascript object>"
      ]
     },
     "metadata": {},
     "output_type": "display_data"
    },
    {
     "data": {
      "text/markdown": [
       "<span style=\"color:#33cc33\">Correct</span>"
      ],
      "text/plain": [
       "Correct"
      ]
     },
     "metadata": {},
     "output_type": "display_data"
    }
   ],
   "source": [
    "def round_to_two_places(num):\n",
    "    \"\"\"Return the given number rounded to two decimal places. \n",
    "    \n",
    "    >>> round_to_two_places(3.14159)\n",
    "    3.14\n",
    "    \"\"\"\n",
    "    # Replace this body with your own code.\n",
    "    # (\"pass\" is a keyword that does literally nothing. We used it as a placeholder\n",
    "    # because after we begin a code block, Python requires at least one line of code)\n",
    "    return round(num, 2)\n",
    "\n",
    "# Check your answer\n",
    "q1.check()"
   ]
  },
  {
   "cell_type": "code",
   "execution_count": 3,
   "id": "6716a366",
   "metadata": {
    "execution": {
     "iopub.execute_input": "2023-02-14T16:13:46.086295Z",
     "iopub.status.busy": "2023-02-14T16:13:46.085827Z",
     "iopub.status.idle": "2023-02-14T16:13:46.091673Z",
     "shell.execute_reply": "2023-02-14T16:13:46.089810Z"
    },
    "papermill": {
     "duration": 0.016397,
     "end_time": "2023-02-14T16:13:46.094907",
     "exception": false,
     "start_time": "2023-02-14T16:13:46.078510",
     "status": "completed"
    },
    "tags": []
   },
   "outputs": [],
   "source": [
    "# Uncomment the following for a hint\n",
    "#q1.hint()\n",
    "# Or uncomment the following to peek at the solution\n",
    "#q1.solution()"
   ]
  },
  {
   "cell_type": "markdown",
   "id": "2278abc2",
   "metadata": {
    "papermill": {
     "duration": 0.00538,
     "end_time": "2023-02-14T16:13:46.106259",
     "exception": false,
     "start_time": "2023-02-14T16:13:46.100879",
     "status": "completed"
    },
    "tags": []
   },
   "source": [
    "# 2.\n",
    "The help for `round` says that `ndigits` (the second argument) may be negative.\n",
    "What do you think will happen when it is? Try some examples in the following cell."
   ]
  },
  {
   "cell_type": "code",
   "execution_count": 4,
   "id": "e976e9c9",
   "metadata": {
    "execution": {
     "iopub.execute_input": "2023-02-14T16:13:46.120063Z",
     "iopub.status.busy": "2023-02-14T16:13:46.119583Z",
     "iopub.status.idle": "2023-02-14T16:13:46.127576Z",
     "shell.execute_reply": "2023-02-14T16:13:46.125377Z"
    },
    "papermill": {
     "duration": 0.018858,
     "end_time": "2023-02-14T16:13:46.131237",
     "exception": false,
     "start_time": "2023-02-14T16:13:46.112379",
     "status": "completed"
    },
    "tags": []
   },
   "outputs": [
    {
     "name": "stdout",
     "output_type": "stream",
     "text": [
      "1300.0\n"
     ]
    }
   ],
   "source": [
    "# Put your test code here\n",
    "print(round(1323.14, -2))"
   ]
  },
  {
   "cell_type": "markdown",
   "id": "dc0ab1c4",
   "metadata": {
    "papermill": {
     "duration": 0.006127,
     "end_time": "2023-02-14T16:13:46.143918",
     "exception": false,
     "start_time": "2023-02-14T16:13:46.137791",
     "status": "completed"
    },
    "tags": []
   },
   "source": [
    "Can you think of a case where this would be useful?  Once you're ready, run the code cell below to see the answer and to receive credit for completing the problem."
   ]
  },
  {
   "cell_type": "code",
   "execution_count": 5,
   "id": "e9de4485",
   "metadata": {
    "execution": {
     "iopub.execute_input": "2023-02-14T16:13:46.158062Z",
     "iopub.status.busy": "2023-02-14T16:13:46.157597Z",
     "iopub.status.idle": "2023-02-14T16:13:46.168508Z",
     "shell.execute_reply": "2023-02-14T16:13:46.167003Z"
    },
    "papermill": {
     "duration": 0.021256,
     "end_time": "2023-02-14T16:13:46.171364",
     "exception": false,
     "start_time": "2023-02-14T16:13:46.150108",
     "status": "completed"
    },
    "tags": []
   },
   "outputs": [
    {
     "data": {
      "application/javascript": [
       "parent.postMessage({\"jupyterEvent\": \"custom.exercise_interaction\", \"data\": {\"interactionType\": 3, \"questionType\": 4, \"questionId\": \"2_RoundNdigitsProblem\", \"learnToolsVersion\": \"0.3.4\", \"valueTowardsCompletion\": 0.0, \"failureMessage\": \"\", \"exceptionClass\": \"\", \"trace\": \"\", \"outcomeType\": 4}}, \"*\")"
      ],
      "text/plain": [
       "<IPython.core.display.Javascript object>"
      ]
     },
     "metadata": {},
     "output_type": "display_data"
    },
    {
     "data": {
      "text/markdown": [
       "<span style=\"color:#33cc99\">Solution:</span> As you've seen, `ndigits=-1` rounds to the nearest 10, `ndigits=-2` rounds to the nearest 100 and so on. Where might this be useful? Suppose we're dealing with large numbers:\n",
       "\n",
       "> The area of Finland is 338,424 km²  \n",
       "> The area of Greenland is 2,166,086 km²\n",
       "\n",
       "We probably don't care whether it's really 338,424, or 338,425, or 338,177. All those digits of accuracy are just distracting. We can chop them off by calling `round()` with `ndigits=-3`:\n",
       "\n",
       "> The area of Finland is 338,000 km²  \n",
       "> The area of Greenland is 2,166,000 km²\n",
       "\n",
       "(We'll talk about how we would get the commas later when we talk about string formatting :))\n"
      ],
      "text/plain": [
       "Solution: As you've seen, `ndigits=-1` rounds to the nearest 10, `ndigits=-2` rounds to the nearest 100 and so on. Where might this be useful? Suppose we're dealing with large numbers:\n",
       "\n",
       "> The area of Finland is 338,424 km²  \n",
       "> The area of Greenland is 2,166,086 km²\n",
       "\n",
       "We probably don't care whether it's really 338,424, or 338,425, or 338,177. All those digits of accuracy are just distracting. We can chop them off by calling `round()` with `ndigits=-3`:\n",
       "\n",
       "> The area of Finland is 338,000 km²  \n",
       "> The area of Greenland is 2,166,000 km²\n",
       "\n",
       "(We'll talk about how we would get the commas later when we talk about string formatting :))"
      ]
     },
     "metadata": {},
     "output_type": "display_data"
    }
   ],
   "source": [
    "# Check your answer (Run this code cell to receive credit!)\n",
    "q2.solution()"
   ]
  },
  {
   "cell_type": "markdown",
   "id": "f4e3e9a4",
   "metadata": {
    "papermill": {
     "duration": 0.006356,
     "end_time": "2023-02-14T16:13:46.184303",
     "exception": false,
     "start_time": "2023-02-14T16:13:46.177947",
     "status": "completed"
    },
    "tags": []
   },
   "source": [
    "# 3.\n",
    "\n",
    "In the previous exercise, the candy-sharing friends Alice, Bob and Carol tried to split candies evenly. For the sake of their friendship, any candies left over would be smashed. For example, if they collectively bring home 91 candies, they'll take 30 each and smash 1.\n",
    "\n",
    "Below is a simple function that will calculate the number of candies to smash for *any* number of total candies.\n",
    "\n",
    "Modify it so that it optionally takes a second argument representing the number of friends the candies are being split between. If no second argument is provided, it should assume 3 friends, as before.\n",
    "\n",
    "Update the docstring to reflect this new behaviour."
   ]
  },
  {
   "cell_type": "code",
   "execution_count": 6,
   "id": "33990afa",
   "metadata": {
    "execution": {
     "iopub.execute_input": "2023-02-14T16:13:46.198667Z",
     "iopub.status.busy": "2023-02-14T16:13:46.198025Z",
     "iopub.status.idle": "2023-02-14T16:13:46.209476Z",
     "shell.execute_reply": "2023-02-14T16:13:46.207864Z"
    },
    "papermill": {
     "duration": 0.02285,
     "end_time": "2023-02-14T16:13:46.213477",
     "exception": false,
     "start_time": "2023-02-14T16:13:46.190627",
     "status": "completed"
    },
    "tags": []
   },
   "outputs": [
    {
     "data": {
      "application/javascript": [
       "parent.postMessage({\"jupyterEvent\": \"custom.exercise_interaction\", \"data\": {\"outcomeType\": 1, \"valueTowardsCompletion\": 0.16666666666666666, \"interactionType\": 1, \"questionType\": 2, \"questionId\": \"3_CandySmashingFunctionProblem\", \"learnToolsVersion\": \"0.3.4\", \"failureMessage\": \"\", \"exceptionClass\": \"\", \"trace\": \"\"}}, \"*\")"
      ],
      "text/plain": [
       "<IPython.core.display.Javascript object>"
      ]
     },
     "metadata": {},
     "output_type": "display_data"
    },
    {
     "data": {
      "text/markdown": [
       "<span style=\"color:#33cc33\">Correct</span>"
      ],
      "text/plain": [
       "Correct"
      ]
     },
     "metadata": {},
     "output_type": "display_data"
    }
   ],
   "source": [
    "def to_smash(total_candies, number_of_friend = 3):\n",
    "    \"\"\"Return the number of leftover candies that must be smashed after distributing\n",
    "    the given number of candies evenly between 3 friends.\n",
    "    \n",
    "    >>> to_smash(91)\n",
    "    1\n",
    "    \"\"\"\n",
    "    return total_candies - number_of_friend * (total_candies // number_of_friend)\n",
    "\n",
    "# Check your answer\n",
    "q3.check()"
   ]
  },
  {
   "cell_type": "code",
   "execution_count": 7,
   "id": "d1a458e8",
   "metadata": {
    "execution": {
     "iopub.execute_input": "2023-02-14T16:13:46.229613Z",
     "iopub.status.busy": "2023-02-14T16:13:46.229034Z",
     "iopub.status.idle": "2023-02-14T16:13:46.235329Z",
     "shell.execute_reply": "2023-02-14T16:13:46.233675Z"
    },
    "papermill": {
     "duration": 0.017057,
     "end_time": "2023-02-14T16:13:46.238192",
     "exception": false,
     "start_time": "2023-02-14T16:13:46.221135",
     "status": "completed"
    },
    "tags": []
   },
   "outputs": [],
   "source": [
    "#q3.hint()"
   ]
  },
  {
   "cell_type": "code",
   "execution_count": 8,
   "id": "9570d6d0",
   "metadata": {
    "execution": {
     "iopub.execute_input": "2023-02-14T16:13:46.253281Z",
     "iopub.status.busy": "2023-02-14T16:13:46.252808Z",
     "iopub.status.idle": "2023-02-14T16:13:46.258536Z",
     "shell.execute_reply": "2023-02-14T16:13:46.257156Z"
    },
    "papermill": {
     "duration": 0.017233,
     "end_time": "2023-02-14T16:13:46.261410",
     "exception": false,
     "start_time": "2023-02-14T16:13:46.244177",
     "status": "completed"
    },
    "tags": []
   },
   "outputs": [],
   "source": [
    "#q3.solution()"
   ]
  },
  {
   "cell_type": "markdown",
   "id": "45cdfb54",
   "metadata": {
    "papermill": {
     "duration": 0.005993,
     "end_time": "2023-02-14T16:13:46.273336",
     "exception": false,
     "start_time": "2023-02-14T16:13:46.267343",
     "status": "completed"
    },
    "tags": []
   },
   "source": [
    "# 4. (Optional)\n",
    "\n",
    "It may not be fun, but reading and understanding error messages will be an important part of your Python career.\n",
    "\n",
    "Each code cell below contains some commented buggy code. For each cell...\n",
    "\n",
    "1. Read the code and predict what you think will happen when it's run.\n",
    "2. Then uncomment the code and run it to see what happens. (**Tip**: In the kernel editor, you can highlight several lines and press `ctrl`+`/` to toggle commenting.)\n",
    "3. Fix the code (so that it accomplishes its intended purpose without throwing an exception)\n",
    "\n",
    "<!-- TODO: should this be autochecked? Delta is probably pretty small. -->"
   ]
  },
  {
   "cell_type": "code",
   "execution_count": 9,
   "id": "694f9404",
   "metadata": {
    "execution": {
     "iopub.execute_input": "2023-02-14T16:13:46.289599Z",
     "iopub.status.busy": "2023-02-14T16:13:46.289136Z",
     "iopub.status.idle": "2023-02-14T16:13:46.297414Z",
     "shell.execute_reply": "2023-02-14T16:13:46.296051Z"
    },
    "papermill": {
     "duration": 0.01885,
     "end_time": "2023-02-14T16:13:46.300178",
     "exception": false,
     "start_time": "2023-02-14T16:13:46.281328",
     "status": "completed"
    },
    "tags": []
   },
   "outputs": [
    {
     "data": {
      "text/plain": [
       "10.0"
      ]
     },
     "execution_count": 9,
     "metadata": {},
     "output_type": "execute_result"
    }
   ],
   "source": [
    "round_to_two_places(9.9999)"
   ]
  },
  {
   "cell_type": "code",
   "execution_count": 10,
   "id": "11bbc5e0",
   "metadata": {
    "execution": {
     "iopub.execute_input": "2023-02-14T16:13:46.314101Z",
     "iopub.status.busy": "2023-02-14T16:13:46.313700Z",
     "iopub.status.idle": "2023-02-14T16:13:46.318976Z",
     "shell.execute_reply": "2023-02-14T16:13:46.317925Z"
    },
    "papermill": {
     "duration": 0.014846,
     "end_time": "2023-02-14T16:13:46.321231",
     "exception": false,
     "start_time": "2023-02-14T16:13:46.306385",
     "status": "completed"
    },
    "tags": []
   },
   "outputs": [],
   "source": [
    "x = -10\n",
    "y = 5\n",
    "# Which of the two variables above has the smallest absolute value?\n",
    "smallest_abs = min(abs(x), y)"
   ]
  },
  {
   "cell_type": "code",
   "execution_count": 11,
   "id": "fa124632",
   "metadata": {
    "execution": {
     "iopub.execute_input": "2023-02-14T16:13:46.335906Z",
     "iopub.status.busy": "2023-02-14T16:13:46.335444Z",
     "iopub.status.idle": "2023-02-14T16:13:46.343400Z",
     "shell.execute_reply": "2023-02-14T16:13:46.341770Z"
    },
    "papermill": {
     "duration": 0.018965,
     "end_time": "2023-02-14T16:13:46.346215",
     "exception": false,
     "start_time": "2023-02-14T16:13:46.327250",
     "status": "completed"
    },
    "tags": []
   },
   "outputs": [
    {
     "name": "stdout",
     "output_type": "stream",
     "text": [
      "5\n"
     ]
    }
   ],
   "source": [
    "def f(x):\n",
    "    y = abs(x)\n",
    "    return y\n",
    "\n",
    "print(f(5))"
   ]
  },
  {
   "cell_type": "markdown",
   "id": "cbae5f04",
   "metadata": {
    "papermill": {
     "duration": 0.005678,
     "end_time": "2023-02-14T16:13:46.358268",
     "exception": false,
     "start_time": "2023-02-14T16:13:46.352590",
     "status": "completed"
    },
    "tags": []
   },
   "source": [
    "# Keep Going\n",
    "\n",
    "Nice job with the code. Next up, you'll learn about *conditionals*, which you'll need to **[write interesting programs](https://www.kaggle.com/colinmorris/booleans-and-conditionals)**. "
   ]
  },
  {
   "cell_type": "markdown",
   "id": "76ba57b9",
   "metadata": {
    "papermill": {
     "duration": 0.006132,
     "end_time": "2023-02-14T16:13:46.370362",
     "exception": false,
     "start_time": "2023-02-14T16:13:46.364230",
     "status": "completed"
    },
    "tags": []
   },
   "source": [
    "---\n",
    "\n",
    "\n",
    "\n",
    "\n",
    "*Have questions or comments? Visit the [course discussion forum](https://www.kaggle.com/learn/python/discussion) to chat with other learners.*"
   ]
  }
 ],
 "metadata": {
  "kernelspec": {
   "display_name": "Python 3",
   "language": "python",
   "name": "python3"
  },
  "language_info": {
   "codemirror_mode": {
    "name": "ipython",
    "version": 3
   },
   "file_extension": ".py",
   "mimetype": "text/x-python",
   "name": "python",
   "nbconvert_exporter": "python",
   "pygments_lexer": "ipython3",
   "version": "3.7.12"
  },
  "papermill": {
   "default_parameters": {},
   "duration": 12.216483,
   "end_time": "2023-02-14T16:13:47.201028",
   "environment_variables": {},
   "exception": null,
   "input_path": "__notebook__.ipynb",
   "output_path": "__notebook__.ipynb",
   "parameters": {},
   "start_time": "2023-02-14T16:13:34.984545",
   "version": "2.3.4"
  }
 },
 "nbformat": 4,
 "nbformat_minor": 5
}
